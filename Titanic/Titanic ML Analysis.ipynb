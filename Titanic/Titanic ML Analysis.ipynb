{
 "cells": [
  {
   "cell_type": "code",
   "execution_count": 1,
   "metadata": {
    "collapsed": true
   },
   "outputs": [],
   "source": [
    "# !open . <--- Opens File Location "
   ]
  },
  {
   "cell_type": "code",
   "execution_count": 2,
   "metadata": {
    "collapsed": false
   },
   "outputs": [
    {
     "name": "stderr",
     "output_type": "stream",
     "text": [
      "/Users/kerrylam/anaconda/lib/python3.6/site-packages/sklearn/cross_validation.py:41: DeprecationWarning: This module was deprecated in version 0.18 in favor of the model_selection module into which all the refactored classes and functions are moved. Also note that the interface of the new CV iterators are different from that of this module. This module will be removed in 0.20.\n",
      "  \"This module will be removed in 0.20.\", DeprecationWarning)\n"
     ]
    }
   ],
   "source": [
    "import numpy as np\n",
    "import matplotlib.pyplot as plt\n",
    "from matplotlib import style\n",
    "import pandas as pd\n",
    "import sklearn\n",
    "from sklearn import metrics\n",
    "from sklearn.cross_validation import train_test_split \n",
    "from sklearn.ensemble import RandomForestClassifier\n",
    "from sklearn.linear_model import LogisticRegression\n",
    "from sklearn.neighbors import KNeighborsClassifier\n",
    "from sklearn.naive_bayes import GaussianNB\n",
    "from sklearn.naive_bayes import MultinomialNB\n",
    "from sklearn.naive_bayes import BernoulliNB\n",
    "from sklearn import svm\n",
    "from sklearn import preprocessing\n",
    "%matplotlib inline\n",
    "style.use(\"ggplot\")\n",
    "accuracy = metrics.accuracy_score\n",
    "\n",
    "import warnings\n",
    "warnings.filterwarnings(\"ignore\")"
   ]
  },
  {
   "cell_type": "markdown",
   "metadata": {},
   "source": [
    "### Instantiate Models"
   ]
  },
  {
   "cell_type": "code",
   "execution_count": 3,
   "metadata": {
    "collapsed": false
   },
   "outputs": [],
   "source": [
    "m1 = rforest = RandomForestClassifier()\n",
    "m2 = logreg = LogisticRegression()\n",
    "m3 = knn = KNeighborsClassifier()\n",
    "m4 = gnb = GaussianNB()\n",
    "m5 = multi = MultinomialNB()\n",
    "m6 = bernoulli = BernoulliNB()\n",
    "\n",
    "m7 = poly = svm.SVC(kernel='poly', C=1,gamma='auto')\n",
    "m8 = rbf = svm.SVC(kernel='rbf', C=1,gamma='auto')\n",
    "m9 = linear = svm.SVC(kernel='linear', C=1,gamma='auto')\n",
    "m10 = sigmoid = svm.SVC(kernel='sigmoid', C=1,gamma='auto')\n",
    "\n",
    "models = [m1,m2,m3,m4,m5,m6]\n",
    "svm_models = [m7,m8,m9,m10] # Looping Through These SVM Models Lag The Script"
   ]
  },
  {
   "cell_type": "markdown",
   "metadata": {},
   "source": [
    "### Merge Data"
   ]
  },
  {
   "cell_type": "code",
   "execution_count": 4,
   "metadata": {
    "collapsed": false
   },
   "outputs": [
    {
     "data": {
      "text/plain": [
       "(1309, 12)"
      ]
     },
     "execution_count": 4,
     "metadata": {},
     "output_type": "execute_result"
    }
   ],
   "source": [
    "train = pd.read_csv(\"titanic_training.csv\", header = 0) \n",
    "test = pd.read_csv(\"titanic_test.csv\", header = 0)\n",
    "ID = test['PassengerId'] # Extract ID Names From Test Set\n",
    "data = pd.concat([train, test], axis = 0)\n",
    "data.shape"
   ]
  },
  {
   "cell_type": "markdown",
   "metadata": {},
   "source": [
    "# Preprocessing"
   ]
  },
  {
   "cell_type": "code",
   "execution_count": 5,
   "metadata": {
    "collapsed": false
   },
   "outputs": [
    {
     "data": {
      "text/html": [
       "<div>\n",
       "<table border=\"1\" class=\"dataframe\">\n",
       "  <thead>\n",
       "    <tr style=\"text-align: right;\">\n",
       "      <th></th>\n",
       "      <th>Survived</th>\n",
       "      <th>Age</th>\n",
       "      <th>Cabin</th>\n",
       "      <th>Embarked</th>\n",
       "      <th>Fare</th>\n",
       "      <th>Name</th>\n",
       "      <th>Parch</th>\n",
       "      <th>PassengerId</th>\n",
       "      <th>Pclass</th>\n",
       "      <th>Sex</th>\n",
       "      <th>SibSp</th>\n",
       "      <th>Ticket</th>\n",
       "    </tr>\n",
       "  </thead>\n",
       "  <tbody>\n",
       "    <tr>\n",
       "      <th>0</th>\n",
       "      <td>0.0</td>\n",
       "      <td>22.0</td>\n",
       "      <td>0</td>\n",
       "      <td>S</td>\n",
       "      <td>7.2500</td>\n",
       "      <td>Braund, Mr. Owen Harris</td>\n",
       "      <td>0</td>\n",
       "      <td>1</td>\n",
       "      <td>3</td>\n",
       "      <td>male</td>\n",
       "      <td>1</td>\n",
       "      <td>A/5 21171</td>\n",
       "    </tr>\n",
       "    <tr>\n",
       "      <th>1</th>\n",
       "      <td>1.0</td>\n",
       "      <td>38.0</td>\n",
       "      <td>C85</td>\n",
       "      <td>C</td>\n",
       "      <td>71.2833</td>\n",
       "      <td>Cumings, Mrs. John Bradley (Florence Briggs Th...</td>\n",
       "      <td>0</td>\n",
       "      <td>2</td>\n",
       "      <td>1</td>\n",
       "      <td>female</td>\n",
       "      <td>1</td>\n",
       "      <td>PC 17599</td>\n",
       "    </tr>\n",
       "    <tr>\n",
       "      <th>2</th>\n",
       "      <td>1.0</td>\n",
       "      <td>26.0</td>\n",
       "      <td>0</td>\n",
       "      <td>S</td>\n",
       "      <td>7.9250</td>\n",
       "      <td>Heikkinen, Miss. Laina</td>\n",
       "      <td>0</td>\n",
       "      <td>3</td>\n",
       "      <td>3</td>\n",
       "      <td>female</td>\n",
       "      <td>0</td>\n",
       "      <td>STON/O2. 3101282</td>\n",
       "    </tr>\n",
       "    <tr>\n",
       "      <th>3</th>\n",
       "      <td>1.0</td>\n",
       "      <td>35.0</td>\n",
       "      <td>C123</td>\n",
       "      <td>S</td>\n",
       "      <td>53.1000</td>\n",
       "      <td>Futrelle, Mrs. Jacques Heath (Lily May Peel)</td>\n",
       "      <td>0</td>\n",
       "      <td>4</td>\n",
       "      <td>1</td>\n",
       "      <td>female</td>\n",
       "      <td>1</td>\n",
       "      <td>113803</td>\n",
       "    </tr>\n",
       "    <tr>\n",
       "      <th>4</th>\n",
       "      <td>0.0</td>\n",
       "      <td>35.0</td>\n",
       "      <td>0</td>\n",
       "      <td>S</td>\n",
       "      <td>8.0500</td>\n",
       "      <td>Allen, Mr. William Henry</td>\n",
       "      <td>0</td>\n",
       "      <td>5</td>\n",
       "      <td>3</td>\n",
       "      <td>male</td>\n",
       "      <td>0</td>\n",
       "      <td>373450</td>\n",
       "    </tr>\n",
       "  </tbody>\n",
       "</table>\n",
       "</div>"
      ],
      "text/plain": [
       "   Survived   Age Cabin Embarked     Fare  \\\n",
       "0       0.0  22.0     0        S   7.2500   \n",
       "1       1.0  38.0   C85        C  71.2833   \n",
       "2       1.0  26.0     0        S   7.9250   \n",
       "3       1.0  35.0  C123        S  53.1000   \n",
       "4       0.0  35.0     0        S   8.0500   \n",
       "\n",
       "                                                Name  Parch  PassengerId  \\\n",
       "0                            Braund, Mr. Owen Harris      0            1   \n",
       "1  Cumings, Mrs. John Bradley (Florence Briggs Th...      0            2   \n",
       "2                             Heikkinen, Miss. Laina      0            3   \n",
       "3       Futrelle, Mrs. Jacques Heath (Lily May Peel)      0            4   \n",
       "4                           Allen, Mr. William Henry      0            5   \n",
       "\n",
       "   Pclass     Sex  SibSp            Ticket  \n",
       "0       3    male      1         A/5 21171  \n",
       "1       1  female      1          PC 17599  \n",
       "2       3  female      0  STON/O2. 3101282  \n",
       "3       1  female      1            113803  \n",
       "4       3    male      0            373450  "
      ]
     },
     "execution_count": 5,
     "metadata": {},
     "output_type": "execute_result"
    }
   ],
   "source": [
    "cols = data.columns.tolist()\n",
    "cols.insert(0, cols.pop(cols.index('Survived')))\n",
    "data = data.reindex(columns= cols)\n",
    "data.head()"
   ]
  },
  {
   "cell_type": "code",
   "execution_count": 6,
   "metadata": {
    "collapsed": false
   },
   "outputs": [
    {
     "data": {
      "text/html": [
       "<div>\n",
       "<table border=\"1\" class=\"dataframe\">\n",
       "  <thead>\n",
       "    <tr style=\"text-align: right;\">\n",
       "      <th></th>\n",
       "      <th>Survived</th>\n",
       "      <th>Age</th>\n",
       "      <th>Cabin</th>\n",
       "      <th>Embarked</th>\n",
       "      <th>Fare</th>\n",
       "      <th>Name</th>\n",
       "      <th>Parch</th>\n",
       "      <th>PassengerId</th>\n",
       "      <th>Pclass</th>\n",
       "      <th>Sex</th>\n",
       "      <th>SibSp</th>\n",
       "      <th>Ticket</th>\n",
       "      <th>Title</th>\n",
       "    </tr>\n",
       "  </thead>\n",
       "  <tbody>\n",
       "    <tr>\n",
       "      <th>0</th>\n",
       "      <td>0.0</td>\n",
       "      <td>22.0</td>\n",
       "      <td>0</td>\n",
       "      <td>S</td>\n",
       "      <td>7.2500</td>\n",
       "      <td>Braund, Mr. Owen Harris</td>\n",
       "      <td>0</td>\n",
       "      <td>1</td>\n",
       "      <td>3</td>\n",
       "      <td>male</td>\n",
       "      <td>1</td>\n",
       "      <td>A/5 21171</td>\n",
       "      <td>Mr</td>\n",
       "    </tr>\n",
       "    <tr>\n",
       "      <th>1</th>\n",
       "      <td>1.0</td>\n",
       "      <td>38.0</td>\n",
       "      <td>C85</td>\n",
       "      <td>C</td>\n",
       "      <td>71.2833</td>\n",
       "      <td>Cumings, Mrs. John Bradley (Florence Briggs Th...</td>\n",
       "      <td>0</td>\n",
       "      <td>2</td>\n",
       "      <td>1</td>\n",
       "      <td>female</td>\n",
       "      <td>1</td>\n",
       "      <td>PC 17599</td>\n",
       "      <td>Mrs</td>\n",
       "    </tr>\n",
       "    <tr>\n",
       "      <th>2</th>\n",
       "      <td>1.0</td>\n",
       "      <td>26.0</td>\n",
       "      <td>0</td>\n",
       "      <td>S</td>\n",
       "      <td>7.9250</td>\n",
       "      <td>Heikkinen, Miss. Laina</td>\n",
       "      <td>0</td>\n",
       "      <td>3</td>\n",
       "      <td>3</td>\n",
       "      <td>female</td>\n",
       "      <td>0</td>\n",
       "      <td>STON/O2. 3101282</td>\n",
       "      <td>Miss</td>\n",
       "    </tr>\n",
       "    <tr>\n",
       "      <th>3</th>\n",
       "      <td>1.0</td>\n",
       "      <td>35.0</td>\n",
       "      <td>C123</td>\n",
       "      <td>S</td>\n",
       "      <td>53.1000</td>\n",
       "      <td>Futrelle, Mrs. Jacques Heath (Lily May Peel)</td>\n",
       "      <td>0</td>\n",
       "      <td>4</td>\n",
       "      <td>1</td>\n",
       "      <td>female</td>\n",
       "      <td>1</td>\n",
       "      <td>113803</td>\n",
       "      <td>Mrs</td>\n",
       "    </tr>\n",
       "    <tr>\n",
       "      <th>4</th>\n",
       "      <td>0.0</td>\n",
       "      <td>35.0</td>\n",
       "      <td>0</td>\n",
       "      <td>S</td>\n",
       "      <td>8.0500</td>\n",
       "      <td>Allen, Mr. William Henry</td>\n",
       "      <td>0</td>\n",
       "      <td>5</td>\n",
       "      <td>3</td>\n",
       "      <td>male</td>\n",
       "      <td>0</td>\n",
       "      <td>373450</td>\n",
       "      <td>Mr</td>\n",
       "    </tr>\n",
       "  </tbody>\n",
       "</table>\n",
       "</div>"
      ],
      "text/plain": [
       "   Survived   Age Cabin Embarked     Fare  \\\n",
       "0       0.0  22.0     0        S   7.2500   \n",
       "1       1.0  38.0   C85        C  71.2833   \n",
       "2       1.0  26.0     0        S   7.9250   \n",
       "3       1.0  35.0  C123        S  53.1000   \n",
       "4       0.0  35.0     0        S   8.0500   \n",
       "\n",
       "                                                Name  Parch  PassengerId  \\\n",
       "0                            Braund, Mr. Owen Harris      0            1   \n",
       "1  Cumings, Mrs. John Bradley (Florence Briggs Th...      0            2   \n",
       "2                             Heikkinen, Miss. Laina      0            3   \n",
       "3       Futrelle, Mrs. Jacques Heath (Lily May Peel)      0            4   \n",
       "4                           Allen, Mr. William Henry      0            5   \n",
       "\n",
       "   Pclass     Sex  SibSp            Ticket Title  \n",
       "0       3    male      1         A/5 21171    Mr  \n",
       "1       1  female      1          PC 17599   Mrs  \n",
       "2       3  female      0  STON/O2. 3101282  Miss  \n",
       "3       1  female      1            113803   Mrs  \n",
       "4       3    male      0            373450    Mr  "
      ]
     },
     "execution_count": 6,
     "metadata": {},
     "output_type": "execute_result"
    }
   ],
   "source": [
    "data['Title'] = 'Other'\n",
    "data.loc[['Master.' in title for title in data.Name], 'Title'] = 'Master'\n",
    "data.loc[['Miss.' in title for title in data.Name], 'Title'] = 'Miss'\n",
    "data.loc[['Mr.' in title for title in data.Name], 'Title'] = 'Mr'\n",
    "data.loc[['Mrs.' in title for title in data.Name], 'Title'] = 'Mrs'\n",
    "data.head()"
   ]
  },
  {
   "cell_type": "code",
   "execution_count": 7,
   "metadata": {
    "collapsed": true
   },
   "outputs": [],
   "source": [
    "data['Sex'] = data.Sex.map({'male':1, 'female':0})"
   ]
  },
  {
   "cell_type": "code",
   "execution_count": 8,
   "metadata": {
    "collapsed": false
   },
   "outputs": [
    {
     "data": {
      "text/html": [
       "<div>\n",
       "<table border=\"1\" class=\"dataframe\">\n",
       "  <thead>\n",
       "    <tr style=\"text-align: right;\">\n",
       "      <th></th>\n",
       "      <th>Survived</th>\n",
       "      <th>Age</th>\n",
       "      <th>Cabin</th>\n",
       "      <th>Fare</th>\n",
       "      <th>Name</th>\n",
       "      <th>Parch</th>\n",
       "      <th>PassengerId</th>\n",
       "      <th>SibSp</th>\n",
       "      <th>Ticket</th>\n",
       "      <th>Sex_1</th>\n",
       "      <th>Embarked_C</th>\n",
       "      <th>Embarked_Q</th>\n",
       "      <th>Embarked_S</th>\n",
       "      <th>Pclass_2</th>\n",
       "      <th>Pclass_3</th>\n",
       "      <th>Title_Miss</th>\n",
       "      <th>Title_Mr</th>\n",
       "      <th>Title_Mrs</th>\n",
       "      <th>Title_Other</th>\n",
       "    </tr>\n",
       "  </thead>\n",
       "  <tbody>\n",
       "    <tr>\n",
       "      <th>0</th>\n",
       "      <td>0.0</td>\n",
       "      <td>22.0</td>\n",
       "      <td>0</td>\n",
       "      <td>7.2500</td>\n",
       "      <td>Braund, Mr. Owen Harris</td>\n",
       "      <td>0</td>\n",
       "      <td>1</td>\n",
       "      <td>1</td>\n",
       "      <td>A/5 21171</td>\n",
       "      <td>1</td>\n",
       "      <td>0</td>\n",
       "      <td>0</td>\n",
       "      <td>1</td>\n",
       "      <td>0</td>\n",
       "      <td>1</td>\n",
       "      <td>0</td>\n",
       "      <td>1</td>\n",
       "      <td>0</td>\n",
       "      <td>0</td>\n",
       "    </tr>\n",
       "    <tr>\n",
       "      <th>1</th>\n",
       "      <td>1.0</td>\n",
       "      <td>38.0</td>\n",
       "      <td>C85</td>\n",
       "      <td>71.2833</td>\n",
       "      <td>Cumings, Mrs. John Bradley (Florence Briggs Th...</td>\n",
       "      <td>0</td>\n",
       "      <td>2</td>\n",
       "      <td>1</td>\n",
       "      <td>PC 17599</td>\n",
       "      <td>0</td>\n",
       "      <td>1</td>\n",
       "      <td>0</td>\n",
       "      <td>0</td>\n",
       "      <td>0</td>\n",
       "      <td>0</td>\n",
       "      <td>0</td>\n",
       "      <td>0</td>\n",
       "      <td>1</td>\n",
       "      <td>0</td>\n",
       "    </tr>\n",
       "    <tr>\n",
       "      <th>2</th>\n",
       "      <td>1.0</td>\n",
       "      <td>26.0</td>\n",
       "      <td>0</td>\n",
       "      <td>7.9250</td>\n",
       "      <td>Heikkinen, Miss. Laina</td>\n",
       "      <td>0</td>\n",
       "      <td>3</td>\n",
       "      <td>0</td>\n",
       "      <td>STON/O2. 3101282</td>\n",
       "      <td>0</td>\n",
       "      <td>0</td>\n",
       "      <td>0</td>\n",
       "      <td>1</td>\n",
       "      <td>0</td>\n",
       "      <td>1</td>\n",
       "      <td>1</td>\n",
       "      <td>0</td>\n",
       "      <td>0</td>\n",
       "      <td>0</td>\n",
       "    </tr>\n",
       "    <tr>\n",
       "      <th>3</th>\n",
       "      <td>1.0</td>\n",
       "      <td>35.0</td>\n",
       "      <td>C123</td>\n",
       "      <td>53.1000</td>\n",
       "      <td>Futrelle, Mrs. Jacques Heath (Lily May Peel)</td>\n",
       "      <td>0</td>\n",
       "      <td>4</td>\n",
       "      <td>1</td>\n",
       "      <td>113803</td>\n",
       "      <td>0</td>\n",
       "      <td>0</td>\n",
       "      <td>0</td>\n",
       "      <td>1</td>\n",
       "      <td>0</td>\n",
       "      <td>0</td>\n",
       "      <td>0</td>\n",
       "      <td>0</td>\n",
       "      <td>1</td>\n",
       "      <td>0</td>\n",
       "    </tr>\n",
       "    <tr>\n",
       "      <th>4</th>\n",
       "      <td>0.0</td>\n",
       "      <td>35.0</td>\n",
       "      <td>0</td>\n",
       "      <td>8.0500</td>\n",
       "      <td>Allen, Mr. William Henry</td>\n",
       "      <td>0</td>\n",
       "      <td>5</td>\n",
       "      <td>0</td>\n",
       "      <td>373450</td>\n",
       "      <td>1</td>\n",
       "      <td>0</td>\n",
       "      <td>0</td>\n",
       "      <td>1</td>\n",
       "      <td>0</td>\n",
       "      <td>1</td>\n",
       "      <td>0</td>\n",
       "      <td>1</td>\n",
       "      <td>0</td>\n",
       "      <td>0</td>\n",
       "    </tr>\n",
       "  </tbody>\n",
       "</table>\n",
       "</div>"
      ],
      "text/plain": [
       "   Survived   Age Cabin     Fare  \\\n",
       "0       0.0  22.0     0   7.2500   \n",
       "1       1.0  38.0   C85  71.2833   \n",
       "2       1.0  26.0     0   7.9250   \n",
       "3       1.0  35.0  C123  53.1000   \n",
       "4       0.0  35.0     0   8.0500   \n",
       "\n",
       "                                                Name  Parch  PassengerId  \\\n",
       "0                            Braund, Mr. Owen Harris      0            1   \n",
       "1  Cumings, Mrs. John Bradley (Florence Briggs Th...      0            2   \n",
       "2                             Heikkinen, Miss. Laina      0            3   \n",
       "3       Futrelle, Mrs. Jacques Heath (Lily May Peel)      0            4   \n",
       "4                           Allen, Mr. William Henry      0            5   \n",
       "\n",
       "   SibSp            Ticket  Sex_1  Embarked_C  Embarked_Q  Embarked_S  \\\n",
       "0      1         A/5 21171      1           0           0           1   \n",
       "1      1          PC 17599      0           1           0           0   \n",
       "2      0  STON/O2. 3101282      0           0           0           1   \n",
       "3      1            113803      0           0           0           1   \n",
       "4      0            373450      1           0           0           1   \n",
       "\n",
       "   Pclass_2  Pclass_3  Title_Miss  Title_Mr  Title_Mrs  Title_Other  \n",
       "0         0         1           0         1          0            0  \n",
       "1         0         0           0         0          1            0  \n",
       "2         0         1           1         0          0            0  \n",
       "3         0         0           0         0          1            0  \n",
       "4         0         1           0         1          0            0  "
      ]
     },
     "execution_count": 8,
     "metadata": {},
     "output_type": "execute_result"
    }
   ],
   "source": [
    "data = pd.get_dummies(data, columns = ['Sex', 'Embarked', 'Pclass', 'Title'], drop_first = True)\n",
    "data.head()"
   ]
  },
  {
   "cell_type": "code",
   "execution_count": 9,
   "metadata": {
    "collapsed": false
   },
   "outputs": [
    {
     "data": {
      "text/html": [
       "<div>\n",
       "<table border=\"1\" class=\"dataframe\">\n",
       "  <thead>\n",
       "    <tr style=\"text-align: right;\">\n",
       "      <th></th>\n",
       "      <th>Survived</th>\n",
       "      <th>Age</th>\n",
       "      <th>Cabin</th>\n",
       "      <th>Fare</th>\n",
       "      <th>Name</th>\n",
       "      <th>Parch</th>\n",
       "      <th>PassengerId</th>\n",
       "      <th>SibSp</th>\n",
       "      <th>Ticket</th>\n",
       "      <th>Sex_1</th>\n",
       "      <th>Embarked_Q</th>\n",
       "      <th>Embarked_S</th>\n",
       "      <th>Pclass_2</th>\n",
       "      <th>Pclass_3</th>\n",
       "      <th>Title_Miss</th>\n",
       "      <th>Title_Mr</th>\n",
       "      <th>Title_Mrs</th>\n",
       "      <th>Title_Other</th>\n",
       "    </tr>\n",
       "  </thead>\n",
       "  <tbody>\n",
       "    <tr>\n",
       "      <th>0</th>\n",
       "      <td>0.0</td>\n",
       "      <td>22.0</td>\n",
       "      <td>0</td>\n",
       "      <td>7.2500</td>\n",
       "      <td>Braund, Mr. Owen Harris</td>\n",
       "      <td>0</td>\n",
       "      <td>1</td>\n",
       "      <td>1</td>\n",
       "      <td>A/5 21171</td>\n",
       "      <td>1</td>\n",
       "      <td>0</td>\n",
       "      <td>1</td>\n",
       "      <td>0</td>\n",
       "      <td>1</td>\n",
       "      <td>0</td>\n",
       "      <td>1</td>\n",
       "      <td>0</td>\n",
       "      <td>0</td>\n",
       "    </tr>\n",
       "    <tr>\n",
       "      <th>1</th>\n",
       "      <td>1.0</td>\n",
       "      <td>38.0</td>\n",
       "      <td>C85</td>\n",
       "      <td>71.2833</td>\n",
       "      <td>Cumings, Mrs. John Bradley (Florence Briggs Th...</td>\n",
       "      <td>0</td>\n",
       "      <td>2</td>\n",
       "      <td>1</td>\n",
       "      <td>PC 17599</td>\n",
       "      <td>0</td>\n",
       "      <td>0</td>\n",
       "      <td>0</td>\n",
       "      <td>0</td>\n",
       "      <td>0</td>\n",
       "      <td>0</td>\n",
       "      <td>0</td>\n",
       "      <td>1</td>\n",
       "      <td>0</td>\n",
       "    </tr>\n",
       "    <tr>\n",
       "      <th>2</th>\n",
       "      <td>1.0</td>\n",
       "      <td>26.0</td>\n",
       "      <td>0</td>\n",
       "      <td>7.9250</td>\n",
       "      <td>Heikkinen, Miss. Laina</td>\n",
       "      <td>0</td>\n",
       "      <td>3</td>\n",
       "      <td>0</td>\n",
       "      <td>STON/O2. 3101282</td>\n",
       "      <td>0</td>\n",
       "      <td>0</td>\n",
       "      <td>1</td>\n",
       "      <td>0</td>\n",
       "      <td>1</td>\n",
       "      <td>1</td>\n",
       "      <td>0</td>\n",
       "      <td>0</td>\n",
       "      <td>0</td>\n",
       "    </tr>\n",
       "    <tr>\n",
       "      <th>3</th>\n",
       "      <td>1.0</td>\n",
       "      <td>35.0</td>\n",
       "      <td>C123</td>\n",
       "      <td>53.1000</td>\n",
       "      <td>Futrelle, Mrs. Jacques Heath (Lily May Peel)</td>\n",
       "      <td>0</td>\n",
       "      <td>4</td>\n",
       "      <td>1</td>\n",
       "      <td>113803</td>\n",
       "      <td>0</td>\n",
       "      <td>0</td>\n",
       "      <td>1</td>\n",
       "      <td>0</td>\n",
       "      <td>0</td>\n",
       "      <td>0</td>\n",
       "      <td>0</td>\n",
       "      <td>1</td>\n",
       "      <td>0</td>\n",
       "    </tr>\n",
       "    <tr>\n",
       "      <th>4</th>\n",
       "      <td>0.0</td>\n",
       "      <td>35.0</td>\n",
       "      <td>0</td>\n",
       "      <td>8.0500</td>\n",
       "      <td>Allen, Mr. William Henry</td>\n",
       "      <td>0</td>\n",
       "      <td>5</td>\n",
       "      <td>0</td>\n",
       "      <td>373450</td>\n",
       "      <td>1</td>\n",
       "      <td>0</td>\n",
       "      <td>1</td>\n",
       "      <td>0</td>\n",
       "      <td>1</td>\n",
       "      <td>0</td>\n",
       "      <td>1</td>\n",
       "      <td>0</td>\n",
       "      <td>0</td>\n",
       "    </tr>\n",
       "  </tbody>\n",
       "</table>\n",
       "</div>"
      ],
      "text/plain": [
       "   Survived   Age Cabin     Fare  \\\n",
       "0       0.0  22.0     0   7.2500   \n",
       "1       1.0  38.0   C85  71.2833   \n",
       "2       1.0  26.0     0   7.9250   \n",
       "3       1.0  35.0  C123  53.1000   \n",
       "4       0.0  35.0     0   8.0500   \n",
       "\n",
       "                                                Name  Parch  PassengerId  \\\n",
       "0                            Braund, Mr. Owen Harris      0            1   \n",
       "1  Cumings, Mrs. John Bradley (Florence Briggs Th...      0            2   \n",
       "2                             Heikkinen, Miss. Laina      0            3   \n",
       "3       Futrelle, Mrs. Jacques Heath (Lily May Peel)      0            4   \n",
       "4                           Allen, Mr. William Henry      0            5   \n",
       "\n",
       "   SibSp            Ticket  Sex_1  Embarked_Q  Embarked_S  Pclass_2  Pclass_3  \\\n",
       "0      1         A/5 21171      1           0           1         0         1   \n",
       "1      1          PC 17599      0           0           0         0         0   \n",
       "2      0  STON/O2. 3101282      0           0           1         0         1   \n",
       "3      1            113803      0           0           1         0         0   \n",
       "4      0            373450      1           0           1         0         1   \n",
       "\n",
       "   Title_Miss  Title_Mr  Title_Mrs  Title_Other  \n",
       "0           0         1          0            0  \n",
       "1           0         0          1            0  \n",
       "2           1         0          0            0  \n",
       "3           0         0          1            0  \n",
       "4           0         1          0            0  "
      ]
     },
     "execution_count": 9,
     "metadata": {},
     "output_type": "execute_result"
    }
   ],
   "source": [
    "del data[\"Embarked_C\"]\n",
    "data.head()"
   ]
  },
  {
   "cell_type": "code",
   "execution_count": 10,
   "metadata": {
    "collapsed": false
   },
   "outputs": [
    {
     "data": {
      "text/html": [
       "<div>\n",
       "<table border=\"1\" class=\"dataframe\">\n",
       "  <thead>\n",
       "    <tr style=\"text-align: right;\">\n",
       "      <th></th>\n",
       "      <th>Survived</th>\n",
       "      <th>Age</th>\n",
       "      <th>Cabin</th>\n",
       "      <th>Fare</th>\n",
       "      <th>Name</th>\n",
       "      <th>Parch</th>\n",
       "      <th>PassengerId</th>\n",
       "      <th>SibSp</th>\n",
       "      <th>Ticket</th>\n",
       "      <th>Sex_1</th>\n",
       "      <th>Embarked_Q</th>\n",
       "      <th>Embarked_S</th>\n",
       "      <th>Pclass_2</th>\n",
       "      <th>Pclass_3</th>\n",
       "      <th>Title_Miss</th>\n",
       "      <th>Title_Mr</th>\n",
       "      <th>Title_Mrs</th>\n",
       "      <th>Title_Other</th>\n",
       "    </tr>\n",
       "  </thead>\n",
       "  <tbody>\n",
       "    <tr>\n",
       "      <th>0</th>\n",
       "      <td>0.0</td>\n",
       "      <td>1.0</td>\n",
       "      <td>0</td>\n",
       "      <td>7.2500</td>\n",
       "      <td>Braund, Mr. Owen Harris</td>\n",
       "      <td>0</td>\n",
       "      <td>1</td>\n",
       "      <td>1</td>\n",
       "      <td>A/5 21171</td>\n",
       "      <td>1</td>\n",
       "      <td>0</td>\n",
       "      <td>1</td>\n",
       "      <td>0</td>\n",
       "      <td>1</td>\n",
       "      <td>0</td>\n",
       "      <td>1</td>\n",
       "      <td>0</td>\n",
       "      <td>0</td>\n",
       "    </tr>\n",
       "    <tr>\n",
       "      <th>1</th>\n",
       "      <td>1.0</td>\n",
       "      <td>1.0</td>\n",
       "      <td>C85</td>\n",
       "      <td>71.2833</td>\n",
       "      <td>Cumings, Mrs. John Bradley (Florence Briggs Th...</td>\n",
       "      <td>0</td>\n",
       "      <td>2</td>\n",
       "      <td>1</td>\n",
       "      <td>PC 17599</td>\n",
       "      <td>0</td>\n",
       "      <td>0</td>\n",
       "      <td>0</td>\n",
       "      <td>0</td>\n",
       "      <td>0</td>\n",
       "      <td>0</td>\n",
       "      <td>0</td>\n",
       "      <td>1</td>\n",
       "      <td>0</td>\n",
       "    </tr>\n",
       "    <tr>\n",
       "      <th>2</th>\n",
       "      <td>1.0</td>\n",
       "      <td>1.0</td>\n",
       "      <td>0</td>\n",
       "      <td>7.9250</td>\n",
       "      <td>Heikkinen, Miss. Laina</td>\n",
       "      <td>0</td>\n",
       "      <td>3</td>\n",
       "      <td>0</td>\n",
       "      <td>STON/O2. 3101282</td>\n",
       "      <td>0</td>\n",
       "      <td>0</td>\n",
       "      <td>1</td>\n",
       "      <td>0</td>\n",
       "      <td>1</td>\n",
       "      <td>1</td>\n",
       "      <td>0</td>\n",
       "      <td>0</td>\n",
       "      <td>0</td>\n",
       "    </tr>\n",
       "    <tr>\n",
       "      <th>3</th>\n",
       "      <td>1.0</td>\n",
       "      <td>1.0</td>\n",
       "      <td>C123</td>\n",
       "      <td>53.1000</td>\n",
       "      <td>Futrelle, Mrs. Jacques Heath (Lily May Peel)</td>\n",
       "      <td>0</td>\n",
       "      <td>4</td>\n",
       "      <td>1</td>\n",
       "      <td>113803</td>\n",
       "      <td>0</td>\n",
       "      <td>0</td>\n",
       "      <td>1</td>\n",
       "      <td>0</td>\n",
       "      <td>0</td>\n",
       "      <td>0</td>\n",
       "      <td>0</td>\n",
       "      <td>1</td>\n",
       "      <td>0</td>\n",
       "    </tr>\n",
       "    <tr>\n",
       "      <th>4</th>\n",
       "      <td>0.0</td>\n",
       "      <td>1.0</td>\n",
       "      <td>0</td>\n",
       "      <td>8.0500</td>\n",
       "      <td>Allen, Mr. William Henry</td>\n",
       "      <td>0</td>\n",
       "      <td>5</td>\n",
       "      <td>0</td>\n",
       "      <td>373450</td>\n",
       "      <td>1</td>\n",
       "      <td>0</td>\n",
       "      <td>1</td>\n",
       "      <td>0</td>\n",
       "      <td>1</td>\n",
       "      <td>0</td>\n",
       "      <td>1</td>\n",
       "      <td>0</td>\n",
       "      <td>0</td>\n",
       "    </tr>\n",
       "  </tbody>\n",
       "</table>\n",
       "</div>"
      ],
      "text/plain": [
       "   Survived  Age Cabin     Fare  \\\n",
       "0       0.0  1.0     0   7.2500   \n",
       "1       1.0  1.0   C85  71.2833   \n",
       "2       1.0  1.0     0   7.9250   \n",
       "3       1.0  1.0  C123  53.1000   \n",
       "4       0.0  1.0     0   8.0500   \n",
       "\n",
       "                                                Name  Parch  PassengerId  \\\n",
       "0                            Braund, Mr. Owen Harris      0            1   \n",
       "1  Cumings, Mrs. John Bradley (Florence Briggs Th...      0            2   \n",
       "2                             Heikkinen, Miss. Laina      0            3   \n",
       "3       Futrelle, Mrs. Jacques Heath (Lily May Peel)      0            4   \n",
       "4                           Allen, Mr. William Henry      0            5   \n",
       "\n",
       "   SibSp            Ticket  Sex_1  Embarked_Q  Embarked_S  Pclass_2  Pclass_3  \\\n",
       "0      1         A/5 21171      1           0           1         0         1   \n",
       "1      1          PC 17599      0           0           0         0         0   \n",
       "2      0  STON/O2. 3101282      0           0           1         0         1   \n",
       "3      1            113803      0           0           1         0         0   \n",
       "4      0            373450      1           0           1         0         1   \n",
       "\n",
       "   Title_Miss  Title_Mr  Title_Mrs  Title_Other  \n",
       "0           0         1          0            0  \n",
       "1           0         0          1            0  \n",
       "2           1         0          0            0  \n",
       "3           0         0          1            0  \n",
       "4           0         1          0            0  "
      ]
     },
     "execution_count": 10,
     "metadata": {},
     "output_type": "execute_result"
    }
   ],
   "source": [
    "def transform(num): \n",
    "    if num <= 15: return 0\n",
    "    if num > 15 and num <= 40: return 1\n",
    "    if num > 50: return 2\n",
    "\n",
    "data['Age'] = data['Age'].apply(transform)\n",
    "data.head()"
   ]
  },
  {
   "cell_type": "code",
   "execution_count": 11,
   "metadata": {
    "collapsed": false
   },
   "outputs": [
    {
     "data": {
      "text/html": [
       "<div>\n",
       "<table border=\"1\" class=\"dataframe\">\n",
       "  <thead>\n",
       "    <tr style=\"text-align: right;\">\n",
       "      <th></th>\n",
       "      <th>Survived</th>\n",
       "      <th>Age</th>\n",
       "      <th>Cabin</th>\n",
       "      <th>Fare</th>\n",
       "      <th>Name</th>\n",
       "      <th>Parch</th>\n",
       "      <th>PassengerId</th>\n",
       "      <th>SibSp</th>\n",
       "      <th>Ticket</th>\n",
       "      <th>Sex_1</th>\n",
       "      <th>Embarked_Q</th>\n",
       "      <th>Embarked_S</th>\n",
       "      <th>Pclass_2</th>\n",
       "      <th>Pclass_3</th>\n",
       "      <th>Title_Miss</th>\n",
       "      <th>Title_Mr</th>\n",
       "      <th>Title_Mrs</th>\n",
       "      <th>Title_Other</th>\n",
       "    </tr>\n",
       "  </thead>\n",
       "  <tbody>\n",
       "    <tr>\n",
       "      <th>0</th>\n",
       "      <td>0.0</td>\n",
       "      <td>1.0</td>\n",
       "      <td>0</td>\n",
       "      <td>0.0</td>\n",
       "      <td>Braund, Mr. Owen Harris</td>\n",
       "      <td>0</td>\n",
       "      <td>1</td>\n",
       "      <td>1</td>\n",
       "      <td>A/5 21171</td>\n",
       "      <td>1</td>\n",
       "      <td>0</td>\n",
       "      <td>1</td>\n",
       "      <td>0</td>\n",
       "      <td>1</td>\n",
       "      <td>0</td>\n",
       "      <td>1</td>\n",
       "      <td>0</td>\n",
       "      <td>0</td>\n",
       "    </tr>\n",
       "    <tr>\n",
       "      <th>1</th>\n",
       "      <td>1.0</td>\n",
       "      <td>1.0</td>\n",
       "      <td>C85</td>\n",
       "      <td>0.0</td>\n",
       "      <td>Cumings, Mrs. John Bradley (Florence Briggs Th...</td>\n",
       "      <td>0</td>\n",
       "      <td>2</td>\n",
       "      <td>1</td>\n",
       "      <td>PC 17599</td>\n",
       "      <td>0</td>\n",
       "      <td>0</td>\n",
       "      <td>0</td>\n",
       "      <td>0</td>\n",
       "      <td>0</td>\n",
       "      <td>0</td>\n",
       "      <td>0</td>\n",
       "      <td>1</td>\n",
       "      <td>0</td>\n",
       "    </tr>\n",
       "    <tr>\n",
       "      <th>2</th>\n",
       "      <td>1.0</td>\n",
       "      <td>1.0</td>\n",
       "      <td>0</td>\n",
       "      <td>0.0</td>\n",
       "      <td>Heikkinen, Miss. Laina</td>\n",
       "      <td>0</td>\n",
       "      <td>3</td>\n",
       "      <td>0</td>\n",
       "      <td>STON/O2. 3101282</td>\n",
       "      <td>0</td>\n",
       "      <td>0</td>\n",
       "      <td>1</td>\n",
       "      <td>0</td>\n",
       "      <td>1</td>\n",
       "      <td>1</td>\n",
       "      <td>0</td>\n",
       "      <td>0</td>\n",
       "      <td>0</td>\n",
       "    </tr>\n",
       "    <tr>\n",
       "      <th>3</th>\n",
       "      <td>1.0</td>\n",
       "      <td>1.0</td>\n",
       "      <td>C123</td>\n",
       "      <td>0.0</td>\n",
       "      <td>Futrelle, Mrs. Jacques Heath (Lily May Peel)</td>\n",
       "      <td>0</td>\n",
       "      <td>4</td>\n",
       "      <td>1</td>\n",
       "      <td>113803</td>\n",
       "      <td>0</td>\n",
       "      <td>0</td>\n",
       "      <td>1</td>\n",
       "      <td>0</td>\n",
       "      <td>0</td>\n",
       "      <td>0</td>\n",
       "      <td>0</td>\n",
       "      <td>1</td>\n",
       "      <td>0</td>\n",
       "    </tr>\n",
       "    <tr>\n",
       "      <th>4</th>\n",
       "      <td>0.0</td>\n",
       "      <td>1.0</td>\n",
       "      <td>0</td>\n",
       "      <td>0.0</td>\n",
       "      <td>Allen, Mr. William Henry</td>\n",
       "      <td>0</td>\n",
       "      <td>5</td>\n",
       "      <td>0</td>\n",
       "      <td>373450</td>\n",
       "      <td>1</td>\n",
       "      <td>0</td>\n",
       "      <td>1</td>\n",
       "      <td>0</td>\n",
       "      <td>1</td>\n",
       "      <td>0</td>\n",
       "      <td>1</td>\n",
       "      <td>0</td>\n",
       "      <td>0</td>\n",
       "    </tr>\n",
       "  </tbody>\n",
       "</table>\n",
       "</div>"
      ],
      "text/plain": [
       "   Survived  Age Cabin  Fare  \\\n",
       "0       0.0  1.0     0   0.0   \n",
       "1       1.0  1.0   C85   0.0   \n",
       "2       1.0  1.0     0   0.0   \n",
       "3       1.0  1.0  C123   0.0   \n",
       "4       0.0  1.0     0   0.0   \n",
       "\n",
       "                                                Name  Parch  PassengerId  \\\n",
       "0                            Braund, Mr. Owen Harris      0            1   \n",
       "1  Cumings, Mrs. John Bradley (Florence Briggs Th...      0            2   \n",
       "2                             Heikkinen, Miss. Laina      0            3   \n",
       "3       Futrelle, Mrs. Jacques Heath (Lily May Peel)      0            4   \n",
       "4                           Allen, Mr. William Henry      0            5   \n",
       "\n",
       "   SibSp            Ticket  Sex_1  Embarked_Q  Embarked_S  Pclass_2  Pclass_3  \\\n",
       "0      1         A/5 21171      1           0           1         0         1   \n",
       "1      1          PC 17599      0           0           0         0         0   \n",
       "2      0  STON/O2. 3101282      0           0           1         0         1   \n",
       "3      1            113803      0           0           1         0         0   \n",
       "4      0            373450      1           0           1         0         1   \n",
       "\n",
       "   Title_Miss  Title_Mr  Title_Mrs  Title_Other  \n",
       "0           0         1          0            0  \n",
       "1           0         0          1            0  \n",
       "2           1         0          0            0  \n",
       "3           0         0          1            0  \n",
       "4           0         1          0            0  "
      ]
     },
     "execution_count": 11,
     "metadata": {},
     "output_type": "execute_result"
    }
   ],
   "source": [
    "def transform(num): \n",
    "    if num <= 100: return 0\n",
    "    else: return num\n",
    "\n",
    "data['Fare'] = data['Fare'].apply(transform)\n",
    "data.head()"
   ]
  },
  {
   "cell_type": "code",
   "execution_count": 12,
   "metadata": {
    "collapsed": true
   },
   "outputs": [],
   "source": [
    "data = pd.get_dummies(data, columns = ['Age'], drop_first = True)"
   ]
  },
  {
   "cell_type": "code",
   "execution_count": 13,
   "metadata": {
    "collapsed": true
   },
   "outputs": [],
   "source": [
    "del data['Name'], data['Ticket'], data['Cabin'], data['PassengerId']"
   ]
  },
  {
   "cell_type": "code",
   "execution_count": 68,
   "metadata": {
    "collapsed": false
   },
   "outputs": [
    {
     "data": {
      "text/html": [
       "<div>\n",
       "<table border=\"1\" class=\"dataframe\">\n",
       "  <thead>\n",
       "    <tr style=\"text-align: right;\">\n",
       "      <th></th>\n",
       "      <th>Survived</th>\n",
       "      <th>Fare</th>\n",
       "      <th>Parch</th>\n",
       "      <th>SibSp</th>\n",
       "      <th>Sex_1</th>\n",
       "      <th>Embarked_Q</th>\n",
       "      <th>Embarked_S</th>\n",
       "      <th>Pclass_2</th>\n",
       "      <th>Pclass_3</th>\n",
       "      <th>Title_Miss</th>\n",
       "      <th>Title_Mr</th>\n",
       "      <th>Title_Mrs</th>\n",
       "      <th>Title_Other</th>\n",
       "      <th>Age_1.0</th>\n",
       "      <th>Age_2.0</th>\n",
       "    </tr>\n",
       "  </thead>\n",
       "  <tbody>\n",
       "    <tr>\n",
       "      <th>0</th>\n",
       "      <td>0.0</td>\n",
       "      <td>0.0</td>\n",
       "      <td>0.0</td>\n",
       "      <td>1.0</td>\n",
       "      <td>1.0</td>\n",
       "      <td>0.0</td>\n",
       "      <td>1.0</td>\n",
       "      <td>0.0</td>\n",
       "      <td>1.0</td>\n",
       "      <td>0.0</td>\n",
       "      <td>1.0</td>\n",
       "      <td>0.0</td>\n",
       "      <td>0.0</td>\n",
       "      <td>1.0</td>\n",
       "      <td>0.0</td>\n",
       "    </tr>\n",
       "    <tr>\n",
       "      <th>1</th>\n",
       "      <td>1.0</td>\n",
       "      <td>0.0</td>\n",
       "      <td>0.0</td>\n",
       "      <td>1.0</td>\n",
       "      <td>0.0</td>\n",
       "      <td>0.0</td>\n",
       "      <td>0.0</td>\n",
       "      <td>0.0</td>\n",
       "      <td>0.0</td>\n",
       "      <td>0.0</td>\n",
       "      <td>0.0</td>\n",
       "      <td>1.0</td>\n",
       "      <td>0.0</td>\n",
       "      <td>1.0</td>\n",
       "      <td>0.0</td>\n",
       "    </tr>\n",
       "    <tr>\n",
       "      <th>2</th>\n",
       "      <td>1.0</td>\n",
       "      <td>0.0</td>\n",
       "      <td>0.0</td>\n",
       "      <td>0.0</td>\n",
       "      <td>0.0</td>\n",
       "      <td>0.0</td>\n",
       "      <td>1.0</td>\n",
       "      <td>0.0</td>\n",
       "      <td>1.0</td>\n",
       "      <td>1.0</td>\n",
       "      <td>0.0</td>\n",
       "      <td>0.0</td>\n",
       "      <td>0.0</td>\n",
       "      <td>1.0</td>\n",
       "      <td>0.0</td>\n",
       "    </tr>\n",
       "    <tr>\n",
       "      <th>3</th>\n",
       "      <td>1.0</td>\n",
       "      <td>0.0</td>\n",
       "      <td>0.0</td>\n",
       "      <td>1.0</td>\n",
       "      <td>0.0</td>\n",
       "      <td>0.0</td>\n",
       "      <td>1.0</td>\n",
       "      <td>0.0</td>\n",
       "      <td>0.0</td>\n",
       "      <td>0.0</td>\n",
       "      <td>0.0</td>\n",
       "      <td>1.0</td>\n",
       "      <td>0.0</td>\n",
       "      <td>1.0</td>\n",
       "      <td>0.0</td>\n",
       "    </tr>\n",
       "    <tr>\n",
       "      <th>4</th>\n",
       "      <td>0.0</td>\n",
       "      <td>0.0</td>\n",
       "      <td>0.0</td>\n",
       "      <td>0.0</td>\n",
       "      <td>1.0</td>\n",
       "      <td>0.0</td>\n",
       "      <td>1.0</td>\n",
       "      <td>0.0</td>\n",
       "      <td>1.0</td>\n",
       "      <td>0.0</td>\n",
       "      <td>1.0</td>\n",
       "      <td>0.0</td>\n",
       "      <td>0.0</td>\n",
       "      <td>1.0</td>\n",
       "      <td>0.0</td>\n",
       "    </tr>\n",
       "  </tbody>\n",
       "</table>\n",
       "</div>"
      ],
      "text/plain": [
       "   Survived  Fare  Parch  SibSp  Sex_1  Embarked_Q  Embarked_S  Pclass_2  \\\n",
       "0       0.0   0.0    0.0    1.0    1.0         0.0         1.0       0.0   \n",
       "1       1.0   0.0    0.0    1.0    0.0         0.0         0.0       0.0   \n",
       "2       1.0   0.0    0.0    0.0    0.0         0.0         1.0       0.0   \n",
       "3       1.0   0.0    0.0    1.0    0.0         0.0         1.0       0.0   \n",
       "4       0.0   0.0    0.0    0.0    1.0         0.0         1.0       0.0   \n",
       "\n",
       "   Pclass_3  Title_Miss  Title_Mr  Title_Mrs  Title_Other  Age_1.0  Age_2.0  \n",
       "0       1.0         0.0       1.0        0.0          0.0      1.0      0.0  \n",
       "1       0.0         0.0       0.0        1.0          0.0      1.0      0.0  \n",
       "2       1.0         1.0       0.0        0.0          0.0      1.0      0.0  \n",
       "3       0.0         0.0       0.0        1.0          0.0      1.0      0.0  \n",
       "4       1.0         0.0       1.0        0.0          0.0      1.0      0.0  "
      ]
     },
     "execution_count": 68,
     "metadata": {},
     "output_type": "execute_result"
    }
   ],
   "source": [
    "data.head()"
   ]
  },
  {
   "cell_type": "markdown",
   "metadata": {},
   "source": [
    "### Convert Data"
   ]
  },
  {
   "cell_type": "markdown",
   "metadata": {},
   "source": [
    "##### Manually Transforming"
   ]
  },
  {
   "cell_type": "code",
   "execution_count": 14,
   "metadata": {
    "collapsed": false
   },
   "outputs": [],
   "source": [
    "# def transform_category(category): # Convert each string to a categorical value\n",
    "#     if category == 'Q': return 0\n",
    "#     if category == 'S': return 1\n",
    "#     if category == 'C': return 2\n",
    "\n",
    "# data['Embarked'] = data['Embarked'].apply(transform_category)\n",
    "\n",
    "# data.drop(data.index[data[\"Embarked\"] == 0])\n",
    "# data['Embarked'] = pd.get_dummies(data['Embarked'])\n",
    "# data['Sex'] = pd.get_dummies(data['Sex'])\n",
    "# # data.head()"
   ]
  },
  {
   "cell_type": "markdown",
   "metadata": {},
   "source": [
    "##### Transforming Using a Dictionary"
   ]
  },
  {
   "cell_type": "code",
   "execution_count": 15,
   "metadata": {
    "collapsed": false
   },
   "outputs": [],
   "source": [
    "# data['Sex'] = data.Sex.map({'male':1, 'female':0})\n",
    "# data['Embarked'] = data.Embarked.map({'Q':0, 'S':1, 'C':2})\n",
    "# data.drop(data.index[data[\"Embarked\"] == 2])"
   ]
  },
  {
   "cell_type": "markdown",
   "metadata": {},
   "source": [
    "##### Pandas Get Dummies "
   ]
  },
  {
   "cell_type": "code",
   "execution_count": 16,
   "metadata": {
    "collapsed": false
   },
   "outputs": [],
   "source": [
    "# print(data.Embarked.value_counts(), \"\\n\")\n",
    "# print(data.Sex.value_counts())"
   ]
  },
  {
   "cell_type": "markdown",
   "metadata": {},
   "source": [
    "##### pd.get_dummies and drop_first\n",
    "- Drops One Category to Avoid Collinearity"
   ]
  },
  {
   "cell_type": "code",
   "execution_count": 17,
   "metadata": {
    "collapsed": false
   },
   "outputs": [],
   "source": [
    "# data = pd.get_dummies(data, columns = ['Sex', 'Embarked'], drop_first = True)\n",
    "# data.head()"
   ]
  },
  {
   "cell_type": "code",
   "execution_count": 18,
   "metadata": {
    "collapsed": false
   },
   "outputs": [],
   "source": [
    "# del data[\"Embarked_C\"]\n",
    "# data.head()"
   ]
  },
  {
   "cell_type": "markdown",
   "metadata": {},
   "source": [
    "##### Label Encoding"
   ]
  },
  {
   "cell_type": "code",
   "execution_count": 19,
   "metadata": {
    "collapsed": false
   },
   "outputs": [],
   "source": [
    "# le = preprocessing.LabelEncoder()\n",
    "# le.fit(np.array(data.Embarked))\n",
    "# data[\"Embarked\"] = le.transform(data.Embarked)\n",
    "# le.fit(np.array(data.Sex))\n",
    "# data[\"Sex\"] = le.transform(data.Sex)"
   ]
  },
  {
   "cell_type": "markdown",
   "metadata": {
    "collapsed": false
   },
   "source": [
    "### Impute Missing Data | Split Data | Normalize Data"
   ]
  },
  {
   "cell_type": "code",
   "execution_count": 20,
   "metadata": {
    "collapsed": false
   },
   "outputs": [],
   "source": [
    "data.fillna(method = 'ffill', inplace = True) # Impute Missing Data\n",
    "data = data.astype(float) # Convert DF Type to Float\n",
    "\n",
    "\"\"\"Split Data\"\"\"\n",
    "train = data[0:len(train)]\n",
    "test = data[len(train):]\n",
    "\n",
    "\"\"\"Normalize Data for Faster Computation\"\"\"\n",
    "train = train/train.max().astype(np.float64)\n",
    "test = test/test.max().astype(np.float64)"
   ]
  },
  {
   "cell_type": "code",
   "execution_count": 21,
   "metadata": {
    "collapsed": false
   },
   "outputs": [
    {
     "name": "stdout",
     "output_type": "stream",
     "text": [
      "(891, 15)\n",
      "(418, 15)\n"
     ]
    }
   ],
   "source": [
    "print(train.shape)\n",
    "print(test.shape)"
   ]
  },
  {
   "cell_type": "markdown",
   "metadata": {},
   "source": [
    "### Separate Target From Training Data | Delete Survived Column From Test Data"
   ]
  },
  {
   "cell_type": "code",
   "execution_count": 22,
   "metadata": {
    "collapsed": false
   },
   "outputs": [
    {
     "name": "stdout",
     "output_type": "stream",
     "text": [
      "Shape of Data: (891, 15)\n",
      "Index Location of Target: 0\n"
     ]
    }
   ],
   "source": [
    "# Grab Location of Survived\n",
    "print(\"Shape of Data:\", train.shape)\n",
    "print(\"Index Location of Target:\", train.columns.get_loc(\"Survived\"))"
   ]
  },
  {
   "cell_type": "code",
   "execution_count": 23,
   "metadata": {
    "collapsed": false
   },
   "outputs": [],
   "source": [
    "target = train.ix[:,0]\n",
    "X = pd.DataFrame(train.ix[:,1:])"
   ]
  },
  {
   "cell_type": "code",
   "execution_count": 24,
   "metadata": {
    "collapsed": false
   },
   "outputs": [],
   "source": [
    "\"\"\"Delete Target From Testing Set to Match Shape of Training Set\"\"\"\n",
    "del test['Survived'] "
   ]
  },
  {
   "cell_type": "code",
   "execution_count": 25,
   "metadata": {
    "collapsed": false
   },
   "outputs": [
    {
     "name": "stdout",
     "output_type": "stream",
     "text": [
      "(891,)\n",
      "(891, 14)\n",
      "(418, 14)\n"
     ]
    }
   ],
   "source": [
    "print(target.shape)\n",
    "print(X.shape)\n",
    "print(test.shape)"
   ]
  },
  {
   "cell_type": "markdown",
   "metadata": {},
   "source": [
    "### Split Data to Test Accuracy on Model"
   ]
  },
  {
   "cell_type": "code",
   "execution_count": 26,
   "metadata": {
    "collapsed": false
   },
   "outputs": [
    {
     "name": "stdout",
     "output_type": "stream",
     "text": [
      "Features For Training Set:  (579, 14)\n",
      "Target Training Set:  (579,)\n",
      "Features For Testing Set:  (312, 14)\n",
      "Target For Testing Set:  (312,)\n"
     ]
    }
   ],
   "source": [
    "from sklearn.cross_validation import cross_val_score\n",
    "X_train, X_test, target_train, target_test = train_test_split(X, target, test_size = 0.35, random_state = 1)\n",
    "\n",
    "print (\"Features For Training Set: \", X_train.shape)\n",
    "print (\"Target Training Set: \", target_train.shape)\n",
    "print (\"Features For Testing Set: \", X_test.shape)\n",
    "print (\"Target For Testing Set: \", target_test.shape)"
   ]
  },
  {
   "cell_type": "markdown",
   "metadata": {},
   "source": [
    "### Cross Validation on Models"
   ]
  },
  {
   "cell_type": "code",
   "execution_count": 27,
   "metadata": {
    "collapsed": false
   },
   "outputs": [
    {
     "name": "stdout",
     "output_type": "stream",
     "text": [
      "RandomForestClassifier(bootstrap=True, class_weight=None, criterion='gini',\n",
      "            max_depth=None, max_features='auto', max_leaf_nodes=None,\n",
      "            min_impurity_decrease=0.0, min_impurity_split=None,\n",
      "            min_samples_leaf=1, min_samples_split=2,\n",
      "            min_weight_fraction_leaf=0.0, n_estimators=10, n_jobs=1,\n",
      "            oob_score=False, random_state=None, verbose=0,\n",
      "            warm_start=False) \n",
      "\n",
      "CV Score: [ 0.85294118  0.83333333  0.78947368  0.91176471  0.73170732] \n",
      "\n",
      "Mean CV Score: 0.823844043394 \n",
      "\n",
      "             precision    recall  f1-score   support\n",
      "\n",
      "        0.0       0.86      0.78      0.82       205\n",
      "        1.0       0.64      0.77      0.70       107\n",
      "\n",
      "avg / total       0.79      0.77      0.78       312\n",
      "\n",
      "____________________________________________________________________________________________ \n",
      "\n",
      "LogisticRegression(C=1.0, class_weight=None, dual=False, fit_intercept=True,\n",
      "          intercept_scaling=1, max_iter=100, multi_class='ovr', n_jobs=1,\n",
      "          penalty='l2', random_state=None, solver='liblinear', tol=0.0001,\n",
      "          verbose=0, warm_start=False) \n",
      "\n",
      "CV Score: [ 0.86666667  0.77272727  0.8         0.84848485  0.73809524] \n",
      "\n",
      "Mean CV Score: 0.805194805195 \n",
      "\n",
      "             precision    recall  f1-score   support\n",
      "\n",
      "        0.0       0.84      0.79      0.81       195\n",
      "        1.0       0.68      0.74      0.71       117\n",
      "\n",
      "avg / total       0.78      0.77      0.77       312\n",
      "\n",
      "____________________________________________________________________________________________ \n",
      "\n",
      "KNeighborsClassifier(algorithm='auto', leaf_size=30, metric='minkowski',\n",
      "           metric_params=None, n_jobs=1, n_neighbors=5, p=2,\n",
      "           weights='uniform') \n",
      "\n",
      "CV Score: [ 0.85294118  0.78571429  0.79487179  0.81578947  0.78947368] \n",
      "\n",
      "Mean CV Score: 0.80775808299 \n",
      "\n",
      "             precision    recall  f1-score   support\n",
      "\n",
      "        0.0       0.89      0.79      0.84       207\n",
      "        1.0       0.66      0.81      0.73       105\n",
      "\n",
      "avg / total       0.81      0.80      0.80       312\n",
      "\n",
      "____________________________________________________________________________________________ \n",
      "\n",
      "GaussianNB(priors=None) \n",
      "\n",
      "CV Score: [ 0.73529412  0.74468085  0.77777778  0.72972973  0.72093023] \n",
      "\n",
      "Mean CV Score: 0.741682541755 \n",
      "\n",
      "             precision    recall  f1-score   support\n",
      "\n",
      "        0.0       0.83      0.79      0.81       194\n",
      "        1.0       0.68      0.74      0.71       118\n",
      "\n",
      "avg / total       0.77      0.77      0.77       312\n",
      "\n",
      "____________________________________________________________________________________________ \n",
      "\n",
      "MultinomialNB(alpha=1.0, class_prior=None, fit_prior=True) \n",
      "\n",
      "CV Score: [ 0.77419355  0.73809524  0.7173913   0.77777778  0.67391304] \n",
      "\n",
      "Mean CV Score: 0.736274182417 \n",
      "\n",
      "             precision    recall  f1-score   support\n",
      "\n",
      "        0.0       0.82      0.77      0.79       196\n",
      "        1.0       0.65      0.72      0.68       116\n",
      "\n",
      "avg / total       0.76      0.75      0.75       312\n",
      "\n",
      "____________________________________________________________________________________________ \n",
      "\n",
      "BernoulliNB(alpha=1.0, binarize=0.0, class_prior=None, fit_prior=True) \n",
      "\n",
      "CV Score: [ 0.77777778  0.75555556  0.70588235  0.78947368  0.68888889] \n",
      "\n",
      "Mean CV Score: 0.743515651875 \n",
      "\n",
      "             precision    recall  f1-score   support\n",
      "\n",
      "        0.0       0.80      0.79      0.80       188\n",
      "        1.0       0.69      0.71      0.70       124\n",
      "\n",
      "avg / total       0.76      0.76      0.76       312\n",
      "\n",
      "____________________________________________________________________________________________ \n",
      "\n"
     ]
    }
   ],
   "source": [
    "for model in models:\n",
    "    model.fit(X_train, target_train)\n",
    "    target_pred = model.predict(X_test)\n",
    "    cv_score = cross_val_score(model, X_train, target_train, cv=5, scoring = 'precision')\n",
    "    print(model, \"\\n\")\n",
    "    print(\"CV Score:\",cv_score, \"\\n\")\n",
    "    print('Mean CV Score:',np.mean(cv_score), \"\\n\")\n",
    "    print(metrics.classification_report(target_pred, target_test))\n",
    "    print(\"____________________________________________________________________________________________\", \"\\n\")"
   ]
  },
  {
   "cell_type": "markdown",
   "metadata": {},
   "source": [
    "### Cross Validation on SVM Models"
   ]
  },
  {
   "cell_type": "code",
   "execution_count": 28,
   "metadata": {
    "collapsed": false
   },
   "outputs": [
    {
     "name": "stdout",
     "output_type": "stream",
     "text": [
      "SVC(C=1, cache_size=200, class_weight=None, coef0=0.0,\n",
      "  decision_function_shape='ovr', degree=3, gamma='auto', kernel='poly',\n",
      "  max_iter=-1, probability=False, random_state=None, shrinking=True,\n",
      "  tol=0.001, verbose=False) \n",
      "\n",
      "CV Score: [ 1.          0.75        0.76470588  0.88888889  0.84615385] \n",
      "\n",
      "Mean CV Score: 0.849949723479 \n",
      "\n",
      "Classification Report: \n",
      "\n",
      "             precision    recall  f1-score   support\n",
      "\n",
      "        0.0       0.86      0.77      0.82       206\n",
      "        1.0       0.63      0.76      0.69       106\n",
      "\n",
      "avg / total       0.79      0.77      0.77       312\n",
      "\n",
      "____________________________________________________________________________________________ \n",
      "\n",
      "SVC(C=1, cache_size=200, class_weight=None, coef0=0.0,\n",
      "  decision_function_shape='ovr', degree=3, gamma='auto', kernel='rbf',\n",
      "  max_iter=-1, probability=False, random_state=None, shrinking=True,\n",
      "  tol=0.001, verbose=False) \n",
      "\n",
      "CV Score: [ 0.77419355  0.74418605  0.73469388  0.76315789  0.70454545] \n",
      "\n",
      "Mean CV Score: 0.744155364346 \n",
      "\n",
      "Classification Report: \n",
      "\n",
      "             precision    recall  f1-score   support\n",
      "\n",
      "        0.0       0.84      0.78      0.81       199\n",
      "        1.0       0.66      0.74      0.70       113\n",
      "\n",
      "avg / total       0.77      0.77      0.77       312\n",
      "\n",
      "____________________________________________________________________________________________ \n",
      "\n",
      "SVC(C=1, cache_size=200, class_weight=None, coef0=0.0,\n",
      "  decision_function_shape='ovr', degree=3, gamma='auto', kernel='linear',\n",
      "  max_iter=-1, probability=False, random_state=None, shrinking=True,\n",
      "  tol=0.001, verbose=False) \n",
      "\n",
      "CV Score: [ 0.8         0.77272727  0.69387755  0.79487179  0.75      ] \n",
      "\n",
      "Mean CV Score: 0.762295323724 \n",
      "\n",
      "Classification Report: \n",
      "\n",
      "             precision    recall  f1-score   support\n",
      "\n",
      "        0.0       0.85      0.79      0.82       197\n",
      "        1.0       0.68      0.76      0.72       115\n",
      "\n",
      "avg / total       0.79      0.78      0.78       312\n",
      "\n",
      "____________________________________________________________________________________________ \n",
      "\n",
      "SVC(C=1, cache_size=200, class_weight=None, coef0=0.0,\n",
      "  decision_function_shape='ovr', degree=3, gamma='auto', kernel='sigmoid',\n",
      "  max_iter=-1, probability=False, random_state=None, shrinking=True,\n",
      "  tol=0.001, verbose=False) \n",
      "\n",
      "CV Score: [ 0.77419355  0.74418605  0.72916667  0.73684211  0.68888889] \n",
      "\n",
      "Mean CV Score: 0.734655451143 \n",
      "\n",
      "Classification Report: \n",
      "\n",
      "             precision    recall  f1-score   support\n",
      "\n",
      "        0.0       0.83      0.78      0.80       196\n",
      "        1.0       0.66      0.72      0.69       116\n",
      "\n",
      "avg / total       0.76      0.76      0.76       312\n",
      "\n",
      "____________________________________________________________________________________________ \n",
      "\n"
     ]
    }
   ],
   "source": [
    "for model in svm_models:\n",
    "    cv_score = cross_val_score(model, X_train, target_train, cv=5, scoring = 'precision')\n",
    "    print(model, \"\\n\")\n",
    "    print(\"CV Score:\",cv_score, \"\\n\")\n",
    "    print('Mean CV Score:',np.mean(cv_score), \"\\n\")\n",
    "    print(\"Classification Report:\", \"\\n\")\n",
    "    model.fit(X_train, target_train)\n",
    "    target_pred = model.predict(X_test)\n",
    "    print(metrics.classification_report(target_pred, target_test))\n",
    "    print(\"____________________________________________________________________________________________\", \"\\n\")"
   ]
  },
  {
   "cell_type": "markdown",
   "metadata": {},
   "source": [
    "### Quick Accuracy Look: "
   ]
  },
  {
   "cell_type": "markdown",
   "metadata": {},
   "source": [
    "###### SVM Models"
   ]
  },
  {
   "cell_type": "code",
   "execution_count": 29,
   "metadata": {
    "collapsed": false
   },
   "outputs": [
    {
     "name": "stdout",
     "output_type": "stream",
     "text": [
      "76.92 % Accuracy\n",
      "SVC(C=1.0, cache_size=200, class_weight=None, coef0=0.0,\n",
      "  decision_function_shape='ovr', degree=3, gamma='auto', kernel='poly',\n",
      "  max_iter=-1, probability=False, random_state=None, shrinking=True,\n",
      "  tol=0.001, verbose=False) \n",
      "\n",
      "             precision    recall  f1-score   support\n",
      "\n",
      "        0.0       0.86      0.77      0.82       206\n",
      "        1.0       0.63      0.76      0.69       106\n",
      "\n",
      "avg / total       0.79      0.77      0.77       312\n",
      " \n",
      "\n",
      "____________________________________________________________________________________________ \n",
      "\n",
      "76.6 % Accuracy\n",
      "SVC(C=1.0, cache_size=200, class_weight=None, coef0=0.0,\n",
      "  decision_function_shape='ovr', degree=3, gamma='auto', kernel='rbf',\n",
      "  max_iter=-1, probability=False, random_state=None, shrinking=True,\n",
      "  tol=0.001, verbose=False) \n",
      "\n",
      "             precision    recall  f1-score   support\n",
      "\n",
      "        0.0       0.84      0.78      0.81       199\n",
      "        1.0       0.66      0.74      0.70       113\n",
      "\n",
      "avg / total       0.77      0.77      0.77       312\n",
      " \n",
      "\n",
      "____________________________________________________________________________________________ \n",
      "\n",
      "77.88 % Accuracy\n",
      "SVC(C=1.0, cache_size=200, class_weight=None, coef0=0.0,\n",
      "  decision_function_shape='ovr', degree=3, gamma='auto', kernel='linear',\n",
      "  max_iter=-1, probability=False, random_state=None, shrinking=True,\n",
      "  tol=0.001, verbose=False) \n",
      "\n",
      "             precision    recall  f1-score   support\n",
      "\n",
      "        0.0       0.85      0.79      0.82       197\n",
      "        1.0       0.68      0.76      0.72       115\n",
      "\n",
      "avg / total       0.79      0.78      0.78       312\n",
      " \n",
      "\n",
      "____________________________________________________________________________________________ \n",
      "\n",
      "75.64 % Accuracy\n",
      "SVC(C=1.0, cache_size=200, class_weight=None, coef0=0.0,\n",
      "  decision_function_shape='ovr', degree=3, gamma='auto', kernel='sigmoid',\n",
      "  max_iter=-1, probability=False, random_state=None, shrinking=True,\n",
      "  tol=0.001, verbose=False) \n",
      "\n",
      "             precision    recall  f1-score   support\n",
      "\n",
      "        0.0       0.83      0.78      0.80       196\n",
      "        1.0       0.66      0.72      0.69       116\n",
      "\n",
      "avg / total       0.76      0.76      0.76       312\n",
      " \n",
      "\n",
      "____________________________________________________________________________________________ \n",
      "\n"
     ]
    }
   ],
   "source": [
    "svm_kernels = ['poly','rbf','linear','sigmoid']\n",
    "for i in svm_kernels:\n",
    "    mod = svm.SVC(kernel = i)\n",
    "    mod.fit(X_train, target_train)\n",
    "    target_pred = mod.predict(X_test)\n",
    "    print(round(accuracy(target_test, target_pred)*100, 2), \"% Accuracy\")\n",
    "    print(mod, \"\\n\")\n",
    "    print(metrics.classification_report(target_pred, target_test), \"\\n\")\n",
    "    print(\"____________________________________________________________________________________________\", \"\\n\")"
   ]
  },
  {
   "cell_type": "markdown",
   "metadata": {},
   "source": [
    "###### All Other Models"
   ]
  },
  {
   "cell_type": "code",
   "execution_count": 30,
   "metadata": {
    "collapsed": false
   },
   "outputs": [
    {
     "name": "stdout",
     "output_type": "stream",
     "text": [
      "78.53 % Accuracy\n",
      "RandomForestClassifier(bootstrap=True, class_weight=None, criterion='gini',\n",
      "            max_depth=None, max_features='auto', max_leaf_nodes=None,\n",
      "            min_impurity_decrease=0.0, min_impurity_split=None,\n",
      "            min_samples_leaf=1, min_samples_split=2,\n",
      "            min_weight_fraction_leaf=0.0, n_estimators=10, n_jobs=1,\n",
      "            oob_score=False, random_state=None, verbose=0,\n",
      "            warm_start=False) \n",
      "\n",
      "             precision    recall  f1-score   support\n",
      "\n",
      "        0.0       0.89      0.78      0.83       209\n",
      "        1.0       0.64      0.80      0.71       103\n",
      "\n",
      "avg / total       0.80      0.79      0.79       312\n",
      "\n",
      "____________________________________________________________________________________________ \n",
      "\n",
      "77.24 % Accuracy\n",
      "LogisticRegression(C=1.0, class_weight=None, dual=False, fit_intercept=True,\n",
      "          intercept_scaling=1, max_iter=100, multi_class='ovr', n_jobs=1,\n",
      "          penalty='l2', random_state=None, solver='liblinear', tol=0.0001,\n",
      "          verbose=0, warm_start=False) \n",
      "\n",
      "             precision    recall  f1-score   support\n",
      "\n",
      "        0.0       0.84      0.79      0.81       195\n",
      "        1.0       0.68      0.74      0.71       117\n",
      "\n",
      "avg / total       0.78      0.77      0.77       312\n",
      "\n",
      "____________________________________________________________________________________________ \n",
      "\n",
      "79.81 % Accuracy\n",
      "KNeighborsClassifier(algorithm='auto', leaf_size=30, metric='minkowski',\n",
      "           metric_params=None, n_jobs=1, n_neighbors=5, p=2,\n",
      "           weights='uniform') \n",
      "\n",
      "             precision    recall  f1-score   support\n",
      "\n",
      "        0.0       0.89      0.79      0.84       207\n",
      "        1.0       0.66      0.81      0.73       105\n",
      "\n",
      "avg / total       0.81      0.80      0.80       312\n",
      "\n",
      "____________________________________________________________________________________________ \n",
      "\n",
      "76.92 % Accuracy\n",
      "GaussianNB(priors=None) \n",
      "\n",
      "             precision    recall  f1-score   support\n",
      "\n",
      "        0.0       0.83      0.79      0.81       194\n",
      "        1.0       0.68      0.74      0.71       118\n",
      "\n",
      "avg / total       0.77      0.77      0.77       312\n",
      "\n",
      "____________________________________________________________________________________________ \n",
      "\n",
      "75.0 % Accuracy\n",
      "MultinomialNB(alpha=1.0, class_prior=None, fit_prior=True) \n",
      "\n",
      "             precision    recall  f1-score   support\n",
      "\n",
      "        0.0       0.82      0.77      0.79       196\n",
      "        1.0       0.65      0.72      0.68       116\n",
      "\n",
      "avg / total       0.76      0.75      0.75       312\n",
      "\n",
      "____________________________________________________________________________________________ \n",
      "\n",
      "75.64 % Accuracy\n",
      "BernoulliNB(alpha=1.0, binarize=0.0, class_prior=None, fit_prior=True) \n",
      "\n",
      "             precision    recall  f1-score   support\n",
      "\n",
      "        0.0       0.80      0.79      0.80       188\n",
      "        1.0       0.69      0.71      0.70       124\n",
      "\n",
      "avg / total       0.76      0.76      0.76       312\n",
      "\n",
      "____________________________________________________________________________________________ \n",
      "\n"
     ]
    }
   ],
   "source": [
    "for model in models: \n",
    "    model.fit(X_train, target_train)\n",
    "    target_pred = model.predict(X_test)\n",
    "    print(round(accuracy(target_test, target_pred)*100, 2), \"% Accuracy\")\n",
    "    print(model, \"\\n\")\n",
    "    print(metrics.classification_report(target_pred, target_test))\n",
    "    print(\"____________________________________________________________________________________________\", \"\\n\")"
   ]
  },
  {
   "cell_type": "markdown",
   "metadata": {},
   "source": [
    "### Interact SVM Models to Test Model Accuracy"
   ]
  },
  {
   "cell_type": "code",
   "execution_count": 31,
   "metadata": {
    "collapsed": false
   },
   "outputs": [
    {
     "name": "stdout",
     "output_type": "stream",
     "text": [
      "75.64 % Accuracy\n",
      "SVC(C=50, cache_size=200, class_weight=None, coef0=0.0,\n",
      "  decision_function_shape='ovr', degree=50, gamma=50, kernel='poly',\n",
      "  max_iter=-1, probability=False, random_state=None, shrinking=True,\n",
      "  tol=0.001, verbose=False) \n",
      "\n",
      "             precision    recall  f1-score   support\n",
      "\n",
      "        0.0       0.80      0.79      0.80       188\n",
      "        1.0       0.69      0.71      0.70       124\n",
      "\n",
      "avg / total       0.76      0.76      0.76       312\n",
      " \n",
      "\n"
     ]
    }
   ],
   "source": [
    "\"\"\"SVM Model: poly\"\"\"\n",
    "from ipywidgets import interact\n",
    "\"\"\"Specify Ranges\"\"\"\n",
    "ranges = [1,100,1]\n",
    "\"\"\"Create Interact Bars For Adjusting Parameters\"\"\"\n",
    "\"\"\"Create Function That Takes the Interact Arguments\"\"\"\n",
    "@interact(c_range = ranges, degree = ranges, gamma = ranges)\n",
    "def acc1(c_range, degree, gamma):\n",
    "    \"\"\"Set Model and Parameters\"\"\"\n",
    "    model = svm.SVC(kernel = 'poly', C = c_range, degree = degree, gamma = gamma)\n",
    "    \"\"\"Fit Data\"\"\"\n",
    "    model.fit(X_train, target_train)\n",
    "    \"\"\"Print Accuracy\"\"\"\n",
    "    print(round(accuracy(target_test, target_pred)*100, 2), \"% Accuracy\")\n",
    "    \"\"\"Print Specifications of Model\"\"\"\n",
    "    print(model, \"\\n\")\n",
    "    \"\"\"Print Metrics\"\"\"\n",
    "    print(metrics.classification_report(target_pred, target_test), \"\\n\")"
   ]
  },
  {
   "cell_type": "code",
   "execution_count": 32,
   "metadata": {
    "collapsed": false
   },
   "outputs": [
    {
     "name": "stdout",
     "output_type": "stream",
     "text": [
      "75.64 % Accuracy\n",
      "SVC(C=50, cache_size=200, class_weight=None, coef0=0.0,\n",
      "  decision_function_shape='ovr', degree=50, gamma=50, kernel='rbf',\n",
      "  max_iter=-1, probability=False, random_state=None, shrinking=True,\n",
      "  tol=0.001, verbose=False) \n",
      "\n",
      "             precision    recall  f1-score   support\n",
      "\n",
      "        0.0       0.80      0.79      0.80       188\n",
      "        1.0       0.69      0.71      0.70       124\n",
      "\n",
      "avg / total       0.76      0.76      0.76       312\n",
      " \n",
      "\n"
     ]
    }
   ],
   "source": [
    "\"\"\"SVM Model: rbf\"\"\"\n",
    "from ipywidgets import interact\n",
    "ranges = [1,100,1]\n",
    "@interact(c_range = ranges, degree = ranges, gamma = ranges)\n",
    "def acc2(c_range, degree, gamma):\n",
    "    model = svm.SVC(kernel = 'rbf', C = c_range, degree = degree, gamma = gamma)\n",
    "    model.fit(X_train, target_train)\n",
    "    print(round(accuracy(target_test, target_pred)*100, 2), \"% Accuracy\")\n",
    "    print(model, \"\\n\")\n",
    "    print(metrics.classification_report(target_pred, target_test), \"\\n\")"
   ]
  },
  {
   "cell_type": "code",
   "execution_count": 33,
   "metadata": {
    "collapsed": false
   },
   "outputs": [
    {
     "name": "stdout",
     "output_type": "stream",
     "text": [
      "75.64 % Accuracy\n",
      "SVC(C=50, cache_size=200, class_weight=None, coef0=0.0,\n",
      "  decision_function_shape='ovr', degree=50, gamma=50, kernel='linear',\n",
      "  max_iter=-1, probability=False, random_state=None, shrinking=True,\n",
      "  tol=0.001, verbose=False) \n",
      "\n",
      "             precision    recall  f1-score   support\n",
      "\n",
      "        0.0       0.80      0.79      0.80       188\n",
      "        1.0       0.69      0.71      0.70       124\n",
      "\n",
      "avg / total       0.76      0.76      0.76       312\n",
      " \n",
      "\n"
     ]
    }
   ],
   "source": [
    "\"\"\"SVM Model: linear\"\"\"\n",
    "from ipywidgets import interact\n",
    "ranges = [1,100,1]\n",
    "@interact(c_range = ranges, degree = ranges, gamma = ranges)\n",
    "def acc3(c_range, degree, gamma):\n",
    "    model = svm.SVC(kernel = 'linear', C = c_range, degree = degree, gamma = gamma)\n",
    "    model.fit(X_train, target_train)\n",
    "    print(round(accuracy(target_test, target_pred)*100, 2), \"% Accuracy\")\n",
    "    print(model, \"\\n\")\n",
    "    print(metrics.classification_report(target_pred, target_test), \"\\n\")"
   ]
  },
  {
   "cell_type": "code",
   "execution_count": 34,
   "metadata": {
    "collapsed": false
   },
   "outputs": [
    {
     "name": "stdout",
     "output_type": "stream",
     "text": [
      "75.64 % Accuracy\n",
      "SVC(C=50, cache_size=200, class_weight=None, coef0=0.0,\n",
      "  decision_function_shape='ovr', degree=50, gamma=50, kernel='sigmoid',\n",
      "  max_iter=-1, probability=False, random_state=None, shrinking=True,\n",
      "  tol=0.001, verbose=False) \n",
      "\n",
      "             precision    recall  f1-score   support\n",
      "\n",
      "        0.0       0.80      0.79      0.80       188\n",
      "        1.0       0.69      0.71      0.70       124\n",
      "\n",
      "avg / total       0.76      0.76      0.76       312\n",
      " \n",
      "\n"
     ]
    }
   ],
   "source": [
    "\"\"\"SVM Model: sigmoid\"\"\"\n",
    "from ipywidgets import interact\n",
    "ranges = [1,100,1]\n",
    "@interact(c_range = ranges, degree = ranges, gamma = ranges)\n",
    "def acc4(c_range, degree, gamma):\n",
    "    model = svm.SVC(kernel = 'sigmoid', C = c_range, degree = degree, gamma = gamma)\n",
    "    model.fit(X_train, target_train)\n",
    "    print(round(accuracy(target_test, target_pred)*100, 2), \"% Accuracy\")\n",
    "    print(model, \"\\n\")\n",
    "    print(metrics.classification_report(target_pred, target_test), \"\\n\")"
   ]
  },
  {
   "cell_type": "code",
   "execution_count": 35,
   "metadata": {
    "collapsed": false
   },
   "outputs": [
    {
     "name": "stdout",
     "output_type": "stream",
     "text": [
      "75.64 % Accuracy\n"
     ]
    }
   ],
   "source": [
    "\"\"\"K Nearest Neighbors\"\"\"\n",
    "from ipywidgets import interact\n",
    "@interact(neighbors = [1,100,1])\n",
    "def acc5(neighbors):\n",
    "    model = KNeighborsClassifier(n_neighbors = neighbors)\n",
    "    model.fit(X_train, target_train)\n",
    "    print(round(accuracy(target_test, target_pred)*100, 2), \"% Accuracy\")"
   ]
  },
  {
   "cell_type": "code",
   "execution_count": 36,
   "metadata": {
    "collapsed": false
   },
   "outputs": [
    {
     "name": "stdout",
     "output_type": "stream",
     "text": [
      "75.64 % Accuracy \n",
      "\n",
      "RandomForestClassifier(bootstrap=True, class_weight=None, criterion='gini',\n",
      "            max_depth=None, max_features='auto', max_leaf_nodes=None,\n",
      "            min_impurity_decrease=0.0, min_impurity_split=None,\n",
      "            min_samples_leaf=1, min_samples_split=51,\n",
      "            min_weight_fraction_leaf=0.0, n_estimators=51, n_jobs=1,\n",
      "            oob_score=False, random_state=None, verbose=0,\n",
      "            warm_start=False)\n"
     ]
    }
   ],
   "source": [
    "\"\"\"Random Forest\"\"\"\n",
    "from ipywidgets import interact\n",
    "ranges = [2,100,1]\n",
    "@interact(n_estimators = ranges, min_samples_split = ranges)\n",
    "def acc5(n_estimators, min_samples_split):\n",
    "    model = RandomForestClassifier(n_estimators = n_estimators, min_samples_split = min_samples_split)\n",
    "    model.fit(X_train, target_train)\n",
    "    print(round(accuracy(target_test, target_pred)*100, 2), \"% Accuracy\", \"\\n\")\n",
    "    print(model)"
   ]
  },
  {
   "cell_type": "markdown",
   "metadata": {},
   "source": [
    "### Model Accuracy on a Single Model "
   ]
  },
  {
   "cell_type": "code",
   "execution_count": 37,
   "metadata": {
    "collapsed": false
   },
   "outputs": [
    {
     "name": "stdout",
     "output_type": "stream",
     "text": [
      "78.85 % Accuracy\n",
      "RandomForestClassifier(bootstrap=True, class_weight=None, criterion='gini',\n",
      "            max_depth=None, max_features='auto', max_leaf_nodes=None,\n",
      "            min_impurity_decrease=0.0, min_impurity_split=None,\n",
      "            min_samples_leaf=1, min_samples_split=2,\n",
      "            min_weight_fraction_leaf=0.0, n_estimators=10, n_jobs=1,\n",
      "            oob_score=False, random_state=None, verbose=0,\n",
      "            warm_start=False) \n",
      "\n",
      "             precision    recall  f1-score   support\n",
      "\n",
      "        0.0       0.88      0.79      0.83       204\n",
      "        1.0       0.66      0.79      0.72       108\n",
      "\n",
      "avg / total       0.80      0.79      0.79       312\n",
      "\n"
     ]
    }
   ],
   "source": [
    "model = m1\n",
    "model.fit(X_train, target_train)\n",
    "target_pred = model.predict(X_test)\n",
    "print (round(accuracy(target_test, target_pred)*100, 2), \"% Accuracy\")\n",
    "print(model, \"\\n\")\n",
    "print(metrics.classification_report(target_pred, target_test))"
   ]
  },
  {
   "cell_type": "markdown",
   "metadata": {},
   "source": [
    "### Grid Search"
   ]
  },
  {
   "cell_type": "code",
   "execution_count": 38,
   "metadata": {
    "collapsed": false
   },
   "outputs": [
    {
     "data": {
      "text/plain": [
       "<bound method BaseEstimator.get_params of KNeighborsClassifier(algorithm='auto', leaf_size=30, metric='minkowski',\n",
       "           metric_params=None, n_jobs=1, n_neighbors=5, p=2,\n",
       "           weights='uniform')>"
      ]
     },
     "execution_count": 38,
     "metadata": {},
     "output_type": "execute_result"
    }
   ],
   "source": [
    "KNeighborsClassifier().get_params"
   ]
  },
  {
   "cell_type": "code",
   "execution_count": 39,
   "metadata": {
    "collapsed": false
   },
   "outputs": [],
   "source": [
    "\"\"\"Get Parameters of a Model Using: Model().get_params()\"\"\"\n",
    "from sklearn.model_selection import GridSearchCV\n",
    "\"\"\"Specify a Range\"\"\"\n",
    "ranges = range(1,50)\n",
    "\"\"\"Set a Model's Parameter to the Ranges to Try in GridSearch Using a Dictionary\"\"\"\n",
    "param_grid = dict(n_neighbors = ranges)\n",
    "\"\"\"Specify the Model\"\"\"\n",
    "Model = KNeighborsClassifier()\n",
    "\"\"\"Instantiate the GridSearchModel With Model, Parameter Grid, and Proper Parameters of Grid\"\"\"\n",
    "grid = GridSearchCV(Model, param_grid, cv = 10, scoring = 'accuracy')\n",
    "\"\"\"Fit Unsplit Data\"\"\"\n",
    "grid.fit(X, target)\n",
    "\"\"\"Output Scores\"\"\"\n",
    "grid.grid_scores_\n",
    "\n",
    "print(grid.best_score_, \"\\n\")\n",
    "print(grid.best_params_, \"\\n\")\n",
    "print(grid.best_estimator_)"
   ]
  },
  {
   "cell_type": "markdown",
   "metadata": {},
   "source": [
    "### Grid Search On SVM Models"
   ]
  },
  {
   "cell_type": "code",
   "execution_count": 40,
   "metadata": {
    "collapsed": false
   },
   "outputs": [
    {
     "data": {
      "text/plain": [
       "LogisticRegression(C=1.0, class_weight=None, dual=False, fit_intercept=True,\n",
       "          intercept_scaling=1, max_iter=100, multi_class='ovr', n_jobs=1,\n",
       "          penalty='l2', random_state=None, solver='liblinear', tol=0.0001,\n",
       "          verbose=0, warm_start=False)"
      ]
     },
     "execution_count": 40,
     "metadata": {},
     "output_type": "execute_result"
    }
   ],
   "source": [
    "LogisticRegression()"
   ]
  },
  {
   "cell_type": "code",
   "execution_count": 41,
   "metadata": {
    "collapsed": false
   },
   "outputs": [],
   "source": [
    "# \"\"\"Logistic Regression\"\"\"\n",
    "# ranges = range(1,30)\n",
    "# param_grid = dict(C = ranges, intercept_scaling = ranges)\n",
    "# Model = LogisticRegression()\n",
    "# grid = GridSearchCV(Model, param_grid, cv = 10, scoring = \"accuracy\")\n",
    "# grid.fit(X, target)\n",
    "# grid.grid_scores_\n",
    "\n",
    "# print(grid.best_score_, \"\\n\")\n",
    "# print(grid.best_params_, \"\\n\")\n",
    "# print(grid.best_estimator_)"
   ]
  },
  {
   "cell_type": "code",
   "execution_count": 42,
   "metadata": {
    "collapsed": false
   },
   "outputs": [
    {
     "data": {
      "text/plain": [
       "<bound method BaseEstimator.get_params of MultinomialNB(alpha=1.0, class_prior=None, fit_prior=True)>"
      ]
     },
     "execution_count": 42,
     "metadata": {},
     "output_type": "execute_result"
    }
   ],
   "source": [
    "MultinomialNB().get_params"
   ]
  },
  {
   "cell_type": "code",
   "execution_count": 43,
   "metadata": {
    "collapsed": false
   },
   "outputs": [],
   "source": [
    "# \"\"\"MultinomalNB\"\"\"\n",
    "# ranges = (0.0001,0.001, 0.01, 1)\n",
    "# param_grid = dict(alpha = ranges)\n",
    "# Model = MultinomialNB()\n",
    "# grid = GridSearchCV(Model, param_grid, cv = 10, scoring = 'accuracy')\n",
    "# grid.fit(X, target)\n",
    "# grid.grid_scores_\n",
    "\n",
    "# print(grid.best_score_, \"\\n\")\n",
    "# print(grid.best_params_, \"\\n\")\n",
    "# print(grid.best_estimator_)"
   ]
  },
  {
   "cell_type": "code",
   "execution_count": 44,
   "metadata": {
    "collapsed": false
   },
   "outputs": [
    {
     "data": {
      "text/plain": [
       "<bound method BaseEstimator.get_params of SVC(C=1.0, cache_size=200, class_weight=None, coef0=0.0,\n",
       "  decision_function_shape='ovr', degree=3, gamma='auto', kernel='rbf',\n",
       "  max_iter=-1, probability=False, random_state=None, shrinking=True,\n",
       "  tol=0.001, verbose=False)>"
      ]
     },
     "execution_count": 44,
     "metadata": {},
     "output_type": "execute_result"
    }
   ],
   "source": [
    "svm.SVC().get_params"
   ]
  },
  {
   "cell_type": "code",
   "execution_count": 45,
   "metadata": {
    "collapsed": false
   },
   "outputs": [],
   "source": [
    "# \"\"\"Grid Search on Multiple SVM Models\"\"\"\n",
    "\n",
    "# \"\"\"Specify a Range of Kernels to Try\"\"\"\n",
    "# kernel_options = ['poly','rbf','linear','sigmoid']\n",
    "# \"\"\"Specify a Range to Try\"\"\"\n",
    "# ranges = range(1,15)\n",
    "# \"\"\"Set a Model's Parameter to the Ranges to Try in GridSearch Using a Dictionary\"\"\"\n",
    "# param_grid = dict(kernel = kernel_options)\n",
    "# \"\"\"Specify the Model\"\"\"\n",
    "# Model = svm.SVC()\n",
    "# \"\"\"Instantiate the GridSearchModel With Model, Parameter Grid, and Proper Parameters of Grid\"\"\"\n",
    "# grid = GridSearchCV(Model, param_grid, cv = 10, scoring = 'accuracy')\n",
    "# \"\"\"Fit Unsplit Data\"\"\"\n",
    "# grid.fit(X, target)\n",
    "# \"\"\"Output Scores\"\"\"\n",
    "# grid.grid_scores_\n",
    "\n",
    "# print(grid.best_score_, \"\\n\")\n",
    "# print(grid.best_params_, \"\\n\")\n",
    "# print(grid.best_estimator_)"
   ]
  },
  {
   "cell_type": "code",
   "execution_count": 46,
   "metadata": {
    "collapsed": false
   },
   "outputs": [],
   "source": [
    "# \"\"\"Grid Search on Single SVM Model With Multiple Parameters\"\"\"\n",
    "# kernel_options = ['rbf']\n",
    "# \"\"\"Specify a Range to Try\"\"\"\n",
    "# ranges = range(1,15)\n",
    "# \"\"\"Set a Model's Parameter to the Ranges to Try in GridSearch Using a Dictionary\"\"\"\n",
    "# param_grid = dict(kernel = kernel_options, C = ranges, gamma = ranges)\n",
    "# \"\"\"Specify the Model\"\"\"\n",
    "# Model = svm.SVC()\n",
    "# \"\"\"Instantiate the GridSearchModel With Model, Parameter Grid, and Proper Parameters of Grid\"\"\"\n",
    "# grid = GridSearchCV(Model, param_grid, cv = 10, scoring = 'accuracy')\n",
    "# \"\"\"Fit Unsplit Data\"\"\"\n",
    "# grid.fit(X, target)\n",
    "# \"\"\"Output Scores\"\"\"\n",
    "# grid.grid_scores_\n",
    "\n",
    "# print(grid.best_score_, \"\\n\")\n",
    "# print(grid.best_params_, \"\\n\")\n",
    "# print(grid.best_estimator_)"
   ]
  },
  {
   "cell_type": "markdown",
   "metadata": {},
   "source": [
    "### Random Search for Parameter Tuning"
   ]
  },
  {
   "cell_type": "code",
   "execution_count": 47,
   "metadata": {
    "collapsed": false
   },
   "outputs": [],
   "source": [
    "# from sklearn.grid_search import RandomizedSearchCV\n",
    "# kernel_options = ['poly','rbf','linear','sigmoid']\n",
    "# \"\"\"Specify a Range\"\"\"\n",
    "# ranges = range(1,5)\n",
    "# \"\"\"Set a Model's Parameter to the Ranges to Try in GridSearch Using a Dictionary\"\"\"\n",
    "# param_rand = dict(kernel = kernel_options, C = ranges, gamma = ranges)\n",
    "# \"\"\"Specify the Model\"\"\"\n",
    "# Model2 = svm.SVC()\n",
    "# \"\"\"Instantiate the RandomizedSearchModel With Model, Parameter Grid, Scoring, etc, and n_iter\"\"\"\n",
    "# randsearch = RandomizedSearchCV(Model2, param_rand, cv = 10, scoring = 'accuracy', n_iter = 4)\n",
    "# \"\"\"Fit Unsplit Data\"\"\"\n",
    "# randsearch.fit(X, target)\n",
    "# \"\"\"Output Scores\"\"\"\n",
    "# randsearch.grid_scores_\n",
    "\n",
    "# print(randsearch.best_score_, \"\\n\")\n",
    "# print(randsearch.best_params_, \"\\n\")\n",
    "# print(randsearch.best_estimator_)"
   ]
  },
  {
   "cell_type": "markdown",
   "metadata": {},
   "source": [
    "## Ensemble Methods"
   ]
  },
  {
   "cell_type": "markdown",
   "metadata": {},
   "source": [
    "##### Bagging"
   ]
  },
  {
   "cell_type": "code",
   "execution_count": 48,
   "metadata": {
    "collapsed": false
   },
   "outputs": [
    {
     "name": "stdout",
     "output_type": "stream",
     "text": [
      "0.782051282051\n",
      "0.846286701209\n",
      "0.842832469775\n"
     ]
    }
   ],
   "source": [
    "from sklearn.neighbors import KNeighborsClassifier\n",
    "from sklearn.ensemble import BaggingClassifier\n",
    "est = KNeighborsClassifier(n_neighbors = 10)\n",
    "bag = BaggingClassifier(base_estimator=est, \n",
    "                        n_estimators = 10, \n",
    "                        max_samples = 0.35,\n",
    "                        max_features = 8,\n",
    "                        random_state = 1, \n",
    "                        oob_score = True)\n",
    "bag.fit(X_train, target_train)\n",
    "print(bag.score(X_test, target_test))\n",
    "print(bag.oob_score_)\n",
    "print(bag.score(X_train, target_train))"
   ]
  },
  {
   "cell_type": "code",
   "execution_count": 49,
   "metadata": {
    "collapsed": false
   },
   "outputs": [
    {
     "name": "stdout",
     "output_type": "stream",
     "text": [
      "0.806959071731\n"
     ]
    }
   ],
   "source": [
    "est = KNeighborsClassifier(n_neighbors = 10)\n",
    "bag = BaggingClassifier(base_estimator=est, \n",
    "                        n_estimators = 100, \n",
    "                        max_samples = 0.35,\n",
    "                        max_features = 8,\n",
    "                        random_state = 1, \n",
    "                        oob_score = True)\n",
    "results = cross_val_score(bag, X, target, cv=5)\n",
    "print(results.mean())"
   ]
  },
  {
   "cell_type": "markdown",
   "metadata": {},
   "source": [
    "##### Random Forest"
   ]
  },
  {
   "cell_type": "code",
   "execution_count": 50,
   "metadata": {
    "collapsed": false
   },
   "outputs": [
    {
     "name": "stdout",
     "output_type": "stream",
     "text": [
      "0.772435897436\n",
      "0.823834196891\n",
      "0.891191709845\n"
     ]
    }
   ],
   "source": [
    "from sklearn.ensemble import RandomForestClassifier\n",
    "est = RandomForestClassifier()\n",
    "rf = RandomForestClassifier(n_estimators = 10, oob_score = True)\n",
    "rf.fit(X_train, target_train)\n",
    "print(rf.score(X_test, target_test))\n",
    "print(rf.oob_score_)\n",
    "print(rf.score(X_train, target_train))"
   ]
  },
  {
   "cell_type": "code",
   "execution_count": 51,
   "metadata": {
    "collapsed": false
   },
   "outputs": [
    {
     "name": "stdout",
     "output_type": "stream",
     "text": [
      "0.79240875286\n"
     ]
    }
   ],
   "source": [
    "est = RandomForestClassifier()\n",
    "rf = RandomForestClassifier(n_estimators = 10, oob_score = True)\n",
    "results = cross_val_score(rf, X, target, cv=5)\n",
    "print(results.mean())"
   ]
  },
  {
   "cell_type": "markdown",
   "metadata": {},
   "source": [
    "##### AdaBoost"
   ]
  },
  {
   "cell_type": "code",
   "execution_count": 52,
   "metadata": {
    "collapsed": false
   },
   "outputs": [
    {
     "name": "stdout",
     "output_type": "stream",
     "text": [
      "0.762820512821\n",
      "0.894645941278\n"
     ]
    }
   ],
   "source": [
    "from sklearn.ensemble import AdaBoostClassifier\n",
    "from sklearn.tree import DecisionTreeClassifier\n",
    "\n",
    "est = AdaBoostClassifier()\n",
    "model = RandomForestClassifier()\n",
    "ada = AdaBoostClassifier(base_estimator = model, n_estimators = 100)\n",
    "ada.fit(X_train, target_train)\n",
    "print(ada.score(X_test, target_test))\n",
    "print(ada.score(X_train, target_train))"
   ]
  },
  {
   "cell_type": "code",
   "execution_count": 67,
   "metadata": {
    "collapsed": false
   },
   "outputs": [
    {
     "name": "stdout",
     "output_type": "stream",
     "text": [
      "0.796915830877\n"
     ]
    }
   ],
   "source": [
    "est = RandomForestClassifier(n_estimators = 100)\n",
    "ada = AdaBoostClassifier(base_estimator = est, n_estimators = 10)\n",
    "results = cross_val_score(ada, X, target, cv=5)\n",
    "print(results.mean())"
   ]
  },
  {
   "cell_type": "code",
   "execution_count": 54,
   "metadata": {
    "collapsed": false
   },
   "outputs": [
    {
     "name": "stdout",
     "output_type": "stream",
     "text": [
      "0.589743589744\n",
      "0.630397236615\n"
     ]
    }
   ],
   "source": [
    "\"\"\"Choose A Model for AdaBoost That Does Not OverFit Data\"\"\"\n",
    "from sklearn.ensemble import AdaBoostClassifier\n",
    "from sklearn.tree import DecisionTreeClassifier\n",
    "\n",
    "est = AdaBoostClassifier()\n",
    "model = svm.SVC(kernel='rbf', C=1,gamma='auto')\n",
    "ada = AdaBoostClassifier(base_estimator = model, n_estimators = 100, algorithm='SAMME')\n",
    "ada.fit(X_train, target_train)\n",
    "print(ada.score(X_test, target_test))\n",
    "print(ada.score(X_train, target_train))"
   ]
  },
  {
   "cell_type": "markdown",
   "metadata": {},
   "source": [
    "#### Gradient Tree Boosting"
   ]
  },
  {
   "cell_type": "code",
   "execution_count": 55,
   "metadata": {
    "collapsed": false
   },
   "outputs": [
    {
     "name": "stdout",
     "output_type": "stream",
     "text": [
      "0.782051282051\n",
      "0.877374784111\n"
     ]
    }
   ],
   "source": [
    "from sklearn.ensemble import GradientBoostingClassifier\n",
    "gbc = GradientBoostingClassifier(n_estimators = 100)\n",
    "gbc.fit(X_train, target_train)\n",
    "print(gbc.score(X_test, target_test))\n",
    "print(gbc.score(X_train, target_train))"
   ]
  },
  {
   "cell_type": "code",
   "execution_count": 56,
   "metadata": {
    "collapsed": false
   },
   "outputs": [
    {
     "name": "stdout",
     "output_type": "stream",
     "text": [
      "0.806999489275\n"
     ]
    }
   ],
   "source": [
    "gbc = GradientBoostingClassifier(n_estimators = 100)\n",
    "results = cross_val_score(gbc, X, target, cv=10)\n",
    "print(results.mean())"
   ]
  },
  {
   "cell_type": "markdown",
   "metadata": {},
   "source": [
    "#### Voting Classifier"
   ]
  },
  {
   "cell_type": "code",
   "execution_count": 66,
   "metadata": {
    "collapsed": false
   },
   "outputs": [
    {
     "name": "stdout",
     "output_type": "stream",
     "text": [
      "Accuracy: 0.81, (+/- 0.01), [Logistic Regression]\n",
      "Accuracy: 0.80, (+/- 0.02), [Random Forest]\n",
      "Accuracy: 0.81, (+/- 0.02), [Naive Bayes]\n",
      "Accuracy: 0.77, (+/- 0.02), [KNN]\n",
      "Accuracy: 0.81, (+/- 0.01), [Ensemble]\n"
     ]
    }
   ],
   "source": [
    ">>> from sklearn.model_selection import cross_val_score\n",
    ">>> from sklearn.linear_model import LogisticRegression\n",
    ">>> from sklearn.naive_bayes import GaussianNB\n",
    ">>> from sklearn.ensemble import RandomForestClassifier\n",
    ">>> from sklearn.ensemble import VotingClassifier\n",
    "\n",
    ">>> clf1 = LogisticRegression()\n",
    ">>> clf2 = RandomForestClassifier(n_estimators = 100)\n",
    ">>> clf3 = KNeighborsClassifier(n_neighbors = 5)\n",
    ">>> clf4 = GaussianNB()\n",
    ">>> eclf = VotingClassifier(estimators=[('lr', clf1), ('rf', clf2), ('gnb', clf3), ('knn', clf4)], voting='hard')\n",
    "\n",
    "\n",
    "for clf, label in zip([clf1, clf2, clf3, clf4, eclf], ['Logistic Regression', 'Random Forest', 'Naive Bayes', 'KNN', 'Ensemble']):\n",
    "    scores = cross_val_score(clf, X, target, cv=5, scoring='accuracy')\n",
    "    print(\"Accuracy: %0.2f, (+/- %0.2f), [%s]\" % (scores.mean(), scores.std(), label))"
   ]
  },
  {
   "cell_type": "markdown",
   "metadata": {},
   "source": [
    "##### Grid Search With Ensemble"
   ]
  },
  {
   "cell_type": "code",
   "execution_count": 58,
   "metadata": {
    "collapsed": true
   },
   "outputs": [],
   "source": [
    "from sklearn.model_selection import GridSearchCV"
   ]
  },
  {
   "cell_type": "code",
   "execution_count": 59,
   "metadata": {
    "collapsed": false
   },
   "outputs": [
    {
     "name": "stdout",
     "output_type": "stream",
     "text": [
      "0.811447811448 \n",
      "\n",
      "{'lr__C': 100.0, 'rf__n_estimators': 200} \n",
      "\n"
     ]
    }
   ],
   "source": [
    "clf1 = LogisticRegression(random_state=1)\n",
    "clf2 = RandomForestClassifier(random_state=1)\n",
    "clf3 = GaussianNB()\n",
    "\n",
    "eclf = VotingClassifier(estimators=[('lr', clf1), ('rf', clf2), ('gnb', clf3)], voting='soft')\n",
    "\n",
    "params = {'lr__C': [1.0, 100.0], 'rf__n_estimators': [20, 200],}\n",
    "grid = GridSearchCV(estimator=eclf, param_grid=params, cv=5)\n",
    "grid = grid.fit(X , target)\n",
    "\n",
    "print(grid.best_score_, \"\\n\")\n",
    "print(grid.best_params_, \"\\n\")\n",
    "# print(grid.best_estimator_)"
   ]
  },
  {
   "cell_type": "code",
   "execution_count": 60,
   "metadata": {
    "collapsed": false
   },
   "outputs": [
    {
     "name": "stdout",
     "output_type": "stream",
     "text": [
      "0.809174664611\n"
     ]
    }
   ],
   "source": [
    ">>> clf1 = LogisticRegression()\n",
    ">>> clf2 = RandomForestClassifier(n_estimators = 100)\n",
    ">>> clf3 = KNeighborsClassifier(n_neighbors = 30)\n",
    "\n",
    ">>> eclf = VotingClassifier(estimators=[('lr', clf1), ('rf', clf2), ('gnb', clf3)], voting='soft')\n",
    "results = cross_val_score(eclf, X, target, cv=5)\n",
    "print(results.mean())"
   ]
  },
  {
   "cell_type": "markdown",
   "metadata": {},
   "source": [
    "# Test on Actual Testing Set"
   ]
  },
  {
   "cell_type": "code",
   "execution_count": 61,
   "metadata": {
    "collapsed": false
   },
   "outputs": [
    {
     "name": "stdout",
     "output_type": "stream",
     "text": [
      "(891, 14)\n",
      "(418, 14)\n",
      "(891,)\n"
     ]
    }
   ],
   "source": [
    "print(X.shape)\n",
    "print(test.shape)\n",
    "print(target.shape)"
   ]
  },
  {
   "cell_type": "code",
   "execution_count": 62,
   "metadata": {
    "collapsed": false
   },
   "outputs": [],
   "source": [
    "# Note: Update Parameters For Better Accuracy\n",
    "model = RandomForestClassifier()\n",
    "estimator = AdaBoostClassifier(base_estimator = model, n_estimators = 100)\n",
    "estimator.fit(X, target)\n",
    "y_pred = estimator.predict(test)\n",
    "predictions = pd.DataFrame(ID)\n",
    "\n",
    "def predict(predictions):\n",
    "    predictions[\"Survived\"] = y_pred\n",
    "    predictions = predictions.astype(int)\n",
    "    return predictions\n",
    "\n",
    "answers = predict(predictions)"
   ]
  },
  {
   "cell_type": "code",
   "execution_count": 63,
   "metadata": {
    "collapsed": true
   },
   "outputs": [],
   "source": [
    "answers.to_csv('answers.csv',index = False)"
   ]
  }
 ],
 "metadata": {
  "kernelspec": {
   "display_name": "Python 3",
   "language": "python",
   "name": "python3"
  },
  "language_info": {
   "codemirror_mode": {
    "name": "ipython",
    "version": 3
   },
   "file_extension": ".py",
   "mimetype": "text/x-python",
   "name": "python",
   "nbconvert_exporter": "python",
   "pygments_lexer": "ipython3",
   "version": "3.6.0"
  }
 },
 "nbformat": 4,
 "nbformat_minor": 2
}
